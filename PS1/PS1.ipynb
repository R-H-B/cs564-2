{
 "cells": [
  {
   "cell_type": "code",
   "execution_count": 1,
   "metadata": {},
   "outputs": [
    {
     "data": {
      "text/plain": [
       "'Connected: @PS1.db'"
      ]
     },
     "execution_count": 1,
     "metadata": {},
     "output_type": "execute_result"
    }
   ],
   "source": [
    "%load_ext sql\n",
    "%sql sqlite:///PS1.db"
   ]
  },
  {
   "cell_type": "markdown",
   "metadata": {},
   "source": [
    "Problem Set 1 [100 points]\n",
    "=======\n",
    "\n",
    "### Deliverables:\n",
    "\n",
    "Submit your queries (and only those) using the `submission_template.txt` file that is posted on the class website. Follow the instructions on the file! Upload the file at Canvas (under PS1).\n",
    "\n",
    "\n",
    "### Instructions / Notes:\n",
    "\n",
    "* Run the top cell above to load the database `PS1.db` (make sure the database file, `PS1.db`, is in the same directory as this IPython notebook is running in)\n",
    "* Some of the problems involve _changing_ this database (e.g. deleting rows)- you can always re-download `PS1.db` or make a copy if you want to start fresh!\n",
    "* You **may** create new IPython notebook cells to use for e.g. testing, debugging, exploring, etc.- this is encouraged in fact!- **just make sure that your final answer for each question is _in its own cell_ and _clearly indicated_**\n",
    "* When you see `In [*]:` to the left of the cell you are executing, this means that the code / query is _running_.\n",
    "    * **If the cell is hanging- i.e. running for too long: To restart the SQL connection, you must restart the entire python kernel**\n",
    "    * To restart kernel using the menu bar: \"Kernel >> Restart >> Clear all outputs & restart\"), then re-execute the sql connection cell at top\n",
    "    * You will also need to restart the connection if you want to load a different version of the database file\n",
    "* Remember:\n",
    "    * `%sql [SQL]` is for _single line_ SQL queries\n",
    "    * `%%sql [SQL]` is for _multi line_ SQL queries\n",
    "* _Have fun!_"
   ]
  },
  {
   "cell_type": "markdown",
   "metadata": {},
   "source": [
    "Problem 1: Linear Algebra [25 points]\n",
    "------------------------\n",
    "\n",
    "Two random 3x3 ($N=3$) matrices have been provided in tables `A` and `B`, having the following schema:\n",
    "> * `i INT`:   Row index\n",
    "> * `j INT`:   Column index\n",
    "> * `val INT`: Cell value\n",
    "\n",
    "**Note: all of your answers below _must_ work for any _square_ matrix sizes, i.e. any value of $N$**.\n",
    "\n",
    "Note how the matrices are represented- why do we choose this format?  Run the following queries to see the matrices in a nice format:"
   ]
  },
  {
   "cell_type": "code",
   "execution_count": 2,
   "metadata": {},
   "outputs": [
    {
     "name": "stdout",
     "output_type": "stream",
     "text": [
      " * sqlite:///PS1.db\n",
      "Done.\n"
     ]
    },
    {
     "data": {
      "text/html": [
       "<table>\n",
       "    <tr>\n",
       "        <th>A</th>\n",
       "    </tr>\n",
       "    <tr>\n",
       "        <td>7 , 5 , 8</td>\n",
       "    </tr>\n",
       "    <tr>\n",
       "        <td>10 , 7 , 7</td>\n",
       "    </tr>\n",
       "    <tr>\n",
       "        <td>2 , 0 , 5</td>\n",
       "    </tr>\n",
       "</table>"
      ],
      "text/plain": [
       "[('7 , 5 , 8',), ('10 , 7 , 7',), ('2 , 0 , 5',)]"
      ]
     },
     "execution_count": 2,
     "metadata": {},
     "output_type": "execute_result"
    }
   ],
   "source": [
    "%sql SELECT group_concat(val, \" , \") AS \"A\" FROM A GROUP BY i;"
   ]
  },
  {
   "cell_type": "code",
   "execution_count": 3,
   "metadata": {},
   "outputs": [
    {
     "name": "stdout",
     "output_type": "stream",
     "text": [
      "Done.\n"
     ]
    },
    {
     "data": {
      "text/html": [
       "<table>\n",
       "    <tr>\n",
       "        <th>B</th>\n",
       "    </tr>\n",
       "    <tr>\n",
       "        <td>9 , 6 , 10</td>\n",
       "    </tr>\n",
       "    <tr>\n",
       "        <td>7 , 6 , 9</td>\n",
       "    </tr>\n",
       "    <tr>\n",
       "        <td>1 , 1 , 7</td>\n",
       "    </tr>\n",
       "</table>"
      ],
      "text/plain": [
       "[(u'9 , 6 , 10',), (u'7 , 6 , 9',), (u'1 , 1 , 7',)]"
      ]
     },
     "execution_count": 3,
     "metadata": {},
     "output_type": "execute_result"
    }
   ],
   "source": [
    "%sql SELECT group_concat(val, \" , \") AS \"B\" FROM B GROUP BY i;"
   ]
  },
  {
   "cell_type": "markdown",
   "metadata": {},
   "source": [
    "### Part (a): Matrix transpose [5 points]\n",
    "\n",
    "_Transposing_ a matrix $A$ is the operation of switching its rows with its columns- written $A^T$.  For example, if we have:\n",
    "\n",
    "$A=\\begin{bmatrix}a & b & c\\\\ d & e & f\\\\ g & h & i\\end{bmatrix}$\n",
    "\n",
    "Then:\n",
    "\n",
    "$A^T=\\begin{bmatrix}a & d & g\\\\ b & e & h\\\\ c & f & i\\end{bmatrix}$\n",
    "\n",
    "Write a _single SQL query_ to get the matrix transpose $A^T$ (in the same format as $A$- output tuples should be of format `(i,j,val)` where `i` is row, `j` is column, and the output is ordered by row then column index)\n",
    "\n",
    "Write your query here:"
   ]
  },
  {
   "cell_type": "code",
   "execution_count": 97,
   "metadata": {},
   "outputs": [
    {
     "name": "stdout",
     "output_type": "stream",
     "text": [
      " * sqlite:///PS1.db\n",
      "Done.\n"
     ]
    },
    {
     "data": {
      "text/html": [
       "<table>\n",
       "    <tr>\n",
       "        <th>i</th>\n",
       "        <th>j</th>\n",
       "        <th>val</th>\n",
       "    </tr>\n",
       "    <tr>\n",
       "        <td>0</td>\n",
       "        <td>0</td>\n",
       "        <td>7</td>\n",
       "    </tr>\n",
       "    <tr>\n",
       "        <td>0</td>\n",
       "        <td>1</td>\n",
       "        <td>10</td>\n",
       "    </tr>\n",
       "    <tr>\n",
       "        <td>0</td>\n",
       "        <td>2</td>\n",
       "        <td>2</td>\n",
       "    </tr>\n",
       "    <tr>\n",
       "        <td>1</td>\n",
       "        <td>0</td>\n",
       "        <td>5</td>\n",
       "    </tr>\n",
       "    <tr>\n",
       "        <td>1</td>\n",
       "        <td>1</td>\n",
       "        <td>7</td>\n",
       "    </tr>\n",
       "    <tr>\n",
       "        <td>1</td>\n",
       "        <td>2</td>\n",
       "        <td>0</td>\n",
       "    </tr>\n",
       "    <tr>\n",
       "        <td>2</td>\n",
       "        <td>0</td>\n",
       "        <td>8</td>\n",
       "    </tr>\n",
       "    <tr>\n",
       "        <td>2</td>\n",
       "        <td>1</td>\n",
       "        <td>7</td>\n",
       "    </tr>\n",
       "    <tr>\n",
       "        <td>2</td>\n",
       "        <td>2</td>\n",
       "        <td>5</td>\n",
       "    </tr>\n",
       "</table>"
      ],
      "text/plain": [
       "[(0, 0, 7),\n",
       " (0, 1, 10),\n",
       " (0, 2, 2),\n",
       " (1, 0, 5),\n",
       " (1, 1, 7),\n",
       " (1, 2, 0),\n",
       " (2, 0, 8),\n",
       " (2, 1, 7),\n",
       " (2, 2, 5)]"
      ]
     },
     "execution_count": 97,
     "metadata": {},
     "output_type": "execute_result"
    }
   ],
   "source": [
    "%%sql\n",
    "SELECT A.j as i, A.i as j, A.val\n",
    "FROM A\n",
    "ORDER BY i ASC, j ASC;"
   ]
  },
  {
   "cell_type": "code",
   "execution_count": 4,
   "metadata": {},
   "outputs": [
    {
     "name": "stdout",
     "output_type": "stream",
     "text": [
      "Done.\n"
     ]
    },
    {
     "data": {
      "text/html": [
       "<table>\n",
       "    <tr>\n",
       "        <th>i</th>\n",
       "        <th>j</th>\n",
       "        <th>val</th>\n",
       "    </tr>\n",
       "    <tr>\n",
       "        <td>0</td>\n",
       "        <td>0</td>\n",
       "        <td>7</td>\n",
       "    </tr>\n",
       "    <tr>\n",
       "        <td>0</td>\n",
       "        <td>1</td>\n",
       "        <td>10</td>\n",
       "    </tr>\n",
       "    <tr>\n",
       "        <td>0</td>\n",
       "        <td>2</td>\n",
       "        <td>2</td>\n",
       "    </tr>\n",
       "    <tr>\n",
       "        <td>1</td>\n",
       "        <td>0</td>\n",
       "        <td>5</td>\n",
       "    </tr>\n",
       "    <tr>\n",
       "        <td>1</td>\n",
       "        <td>1</td>\n",
       "        <td>7</td>\n",
       "    </tr>\n",
       "    <tr>\n",
       "        <td>1</td>\n",
       "        <td>2</td>\n",
       "        <td>0</td>\n",
       "    </tr>\n",
       "    <tr>\n",
       "        <td>2</td>\n",
       "        <td>0</td>\n",
       "        <td>8</td>\n",
       "    </tr>\n",
       "    <tr>\n",
       "        <td>2</td>\n",
       "        <td>1</td>\n",
       "        <td>7</td>\n",
       "    </tr>\n",
       "    <tr>\n",
       "        <td>2</td>\n",
       "        <td>2</td>\n",
       "        <td>5</td>\n",
       "    </tr>\n",
       "</table>"
      ],
      "text/plain": [
       "[(0, 0, 7),\n",
       " (0, 1, 10),\n",
       " (0, 2, 2),\n",
       " (1, 0, 5),\n",
       " (1, 1, 7),\n",
       " (1, 2, 0),\n",
       " (2, 0, 8),\n",
       " (2, 1, 7),\n",
       " (2, 2, 5)]"
      ]
     },
     "execution_count": 4,
     "metadata": {},
     "output_type": "execute_result"
    }
   ],
   "source": [
    "\"\"\"\n",
    "Expected output below- don't re-evaluate this cell!\n",
    "\n",
    "NOTE: A valid answer must work for ALL inputs of the given type,\n",
    "not just this example.  I.e. do not hardcode around this answer / etc!\n",
    "\"\"\""
   ]
  },
  {
   "cell_type": "markdown",
   "metadata": {},
   "source": [
    "### Part (b): Dot product I [5 points]\n",
    "\n",
    "The _dot product_ of two vectors\n",
    "\n",
    "$a = \\begin{bmatrix}a_1 & a_2 & \\dots & a_n\\end{bmatrix}$\n",
    "\n",
    "and\n",
    "\n",
    "$b = \\begin{bmatrix}b_1 & b_2 & \\dots & b_n\\end{bmatrix}$\n",
    "\n",
    "is\n",
    "\n",
    "$a\\cdot b = \\sum_{i=1}^n a_ib_i = a_1b_1 + a_2b_2 + \\dots + a_nb_n$\n",
    "\n",
    "Write a _single SQL query_ to take the dot product of the **second column of $A$** and the **third column of $B$.**\n",
    "\n",
    "Write your query here:"
   ]
  },
  {
   "cell_type": "code",
   "execution_count": 7,
   "metadata": {},
   "outputs": [
    {
     "name": "stdout",
     "output_type": "stream",
     "text": [
      " * sqlite:///PS1.db\n",
      "Done.\n"
     ]
    },
    {
     "data": {
      "text/html": [
       "<table>\n",
       "    <tr>\n",
       "        <th>SUM(A.val * B.val)</th>\n",
       "    </tr>\n",
       "    <tr>\n",
       "        <td>113</td>\n",
       "    </tr>\n",
       "</table>"
      ],
      "text/plain": [
       "[(113,)]"
      ]
     },
     "execution_count": 7,
     "metadata": {},
     "output_type": "execute_result"
    }
   ],
   "source": [
    "%%sql\n",
    "SELECT SUM(A.val * B.val)\n",
    "FROM A, B\n",
    "WHERE A.j = 1\n",
    "AND B.j = 2\n",
    "AND A.i = B.i;"
   ]
  },
  {
   "cell_type": "code",
   "execution_count": 5,
   "metadata": {},
   "outputs": [
    {
     "name": "stdout",
     "output_type": "stream",
     "text": [
      "Done.\n"
     ]
    },
    {
     "data": {
      "text/html": [
       "<table>\n",
       "    <tr>\n",
       "        <th>SUM(A.val * B.val)</th>\n",
       "    </tr>\n",
       "    <tr>\n",
       "        <td>113</td>\n",
       "    </tr>\n",
       "</table>"
      ],
      "text/plain": [
       "[(113,)]"
      ]
     },
     "execution_count": 5,
     "metadata": {},
     "output_type": "execute_result"
    }
   ],
   "source": [
    "\"\"\"\n",
    "Expected output below- don't re-evaluate this cell!\n",
    "\n",
    "NOTE: A valid answer must work for ALL inputs of the given type,\n",
    "not just this example.  I.e. do not hardcode around this answer / etc!\n",
    "\"\"\""
   ]
  },
  {
   "cell_type": "markdown",
   "metadata": {},
   "source": [
    "### Part (c): Dot product II [5 points]\n",
    "\n",
    "Write a _single SQL query_ to take the dot product of the **second _row_ of $A$** and the **third column of $B$.**\n",
    "\n",
    "Write your query here:"
   ]
  },
  {
   "cell_type": "code",
   "execution_count": 98,
   "metadata": {},
   "outputs": [
    {
     "name": "stdout",
     "output_type": "stream",
     "text": [
      " * sqlite:///PS1.db\n",
      "Done.\n"
     ]
    },
    {
     "data": {
      "text/html": [
       "<table>\n",
       "    <tr>\n",
       "        <th>SUM(A.val * B.val)</th>\n",
       "    </tr>\n",
       "    <tr>\n",
       "        <td>212</td>\n",
       "    </tr>\n",
       "</table>"
      ],
      "text/plain": [
       "[(212,)]"
      ]
     },
     "execution_count": 98,
     "metadata": {},
     "output_type": "execute_result"
    }
   ],
   "source": [
    "%%sql\n",
    "SELECT SUM(A.val * B.val)\n",
    "FROM A, B\n",
    "WHERE A.i = 1\n",
    "AND B.j = 2\n",
    "AND A.j = B.i;"
   ]
  },
  {
   "cell_type": "code",
   "execution_count": 6,
   "metadata": {},
   "outputs": [
    {
     "name": "stdout",
     "output_type": "stream",
     "text": [
      "Done.\n"
     ]
    },
    {
     "data": {
      "text/html": [
       "<table>\n",
       "    <tr>\n",
       "        <th>SUM(A.val * B.val)</th>\n",
       "    </tr>\n",
       "    <tr>\n",
       "        <td>212</td>\n",
       "    </tr>\n",
       "</table>"
      ],
      "text/plain": [
       "[(212,)]"
      ]
     },
     "execution_count": 6,
     "metadata": {},
     "output_type": "execute_result"
    }
   ],
   "source": [
    "\"\"\"\n",
    "Expected output below- don't re-evaluate this cell!\n",
    "\n",
    "NOTE: A valid answer must work for ALL inputs of the given type,\n",
    "not just this example.  I.e. do not hardcode around this answer / etc!\n",
    "\"\"\""
   ]
  },
  {
   "cell_type": "markdown",
   "metadata": {},
   "source": [
    "### Part (d): Matrix multiplication [10 points]\n",
    "\n",
    "The product of a matrix $A$ (having dimensions $n\\times m$) and a matrix $B$ (having dimensions $m\\times p$) is the matrix $C$ (of dimension $n\\times p$) having cell at row $i$ and column $j$ equal to:\n",
    "\n",
    "$C_{ij} = \\sum_{k=1}^m A_{ik}B_{kj}$\n",
    "\n",
    "In other words, to multiply two matrices, get each cell of the resulting matrix $C$, $C_{ij}$, by taking the _dot product_ of the $i$th row of $A$ and the $j$th column of $B$.\n",
    "\n",
    "Write a single SQL query to get the matrix product of $A$ and $B$ (in the same format as $A$ and $B$).\n",
    "\n",
    "Write your query here:"
   ]
  },
  {
   "cell_type": "code",
   "execution_count": 9,
   "metadata": {},
   "outputs": [
    {
     "name": "stdout",
     "output_type": "stream",
     "text": [
      " * sqlite:///PS1.db\n",
      "Done.\n"
     ]
    },
    {
     "data": {
      "text/html": [
       "<table>\n",
       "    <tr>\n",
       "        <th>i</th>\n",
       "        <th>j</th>\n",
       "        <th>val</th>\n",
       "    </tr>\n",
       "    <tr>\n",
       "        <td>0</td>\n",
       "        <td>0</td>\n",
       "        <td>106</td>\n",
       "    </tr>\n",
       "    <tr>\n",
       "        <td>0</td>\n",
       "        <td>1</td>\n",
       "        <td>80</td>\n",
       "    </tr>\n",
       "    <tr>\n",
       "        <td>0</td>\n",
       "        <td>2</td>\n",
       "        <td>171</td>\n",
       "    </tr>\n",
       "    <tr>\n",
       "        <td>1</td>\n",
       "        <td>0</td>\n",
       "        <td>146</td>\n",
       "    </tr>\n",
       "    <tr>\n",
       "        <td>1</td>\n",
       "        <td>1</td>\n",
       "        <td>109</td>\n",
       "    </tr>\n",
       "    <tr>\n",
       "        <td>1</td>\n",
       "        <td>2</td>\n",
       "        <td>212</td>\n",
       "    </tr>\n",
       "    <tr>\n",
       "        <td>2</td>\n",
       "        <td>0</td>\n",
       "        <td>23</td>\n",
       "    </tr>\n",
       "    <tr>\n",
       "        <td>2</td>\n",
       "        <td>1</td>\n",
       "        <td>17</td>\n",
       "    </tr>\n",
       "    <tr>\n",
       "        <td>2</td>\n",
       "        <td>2</td>\n",
       "        <td>55</td>\n",
       "    </tr>\n",
       "</table>"
      ],
      "text/plain": [
       "[(0, 0, 106),\n",
       " (0, 1, 80),\n",
       " (0, 2, 171),\n",
       " (1, 0, 146),\n",
       " (1, 1, 109),\n",
       " (1, 2, 212),\n",
       " (2, 0, 23),\n",
       " (2, 1, 17),\n",
       " (2, 2, 55)]"
      ]
     },
     "execution_count": 9,
     "metadata": {},
     "output_type": "execute_result"
    }
   ],
   "source": [
    "%%sql\n",
    "SELECT A.i as i, B.j as j, SUM(A.val * B.val) as val\n",
    "FROM A, B\n",
    "WHERE A.j = B.i\n",
    "GROUP BY A.i, B.j;"
   ]
  },
  {
   "cell_type": "code",
   "execution_count": 7,
   "metadata": {},
   "outputs": [
    {
     "name": "stdout",
     "output_type": "stream",
     "text": [
      "Done.\n"
     ]
    },
    {
     "data": {
      "text/html": [
       "<table>\n",
       "    <tr>\n",
       "        <th>i</th>\n",
       "        <th>j</th>\n",
       "        <th>val</th>\n",
       "    </tr>\n",
       "    <tr>\n",
       "        <td>0</td>\n",
       "        <td>0</td>\n",
       "        <td>106</td>\n",
       "    </tr>\n",
       "    <tr>\n",
       "        <td>0</td>\n",
       "        <td>1</td>\n",
       "        <td>80</td>\n",
       "    </tr>\n",
       "    <tr>\n",
       "        <td>0</td>\n",
       "        <td>2</td>\n",
       "        <td>171</td>\n",
       "    </tr>\n",
       "    <tr>\n",
       "        <td>1</td>\n",
       "        <td>0</td>\n",
       "        <td>146</td>\n",
       "    </tr>\n",
       "    <tr>\n",
       "        <td>1</td>\n",
       "        <td>1</td>\n",
       "        <td>109</td>\n",
       "    </tr>\n",
       "    <tr>\n",
       "        <td>1</td>\n",
       "        <td>2</td>\n",
       "        <td>212</td>\n",
       "    </tr>\n",
       "    <tr>\n",
       "        <td>2</td>\n",
       "        <td>0</td>\n",
       "        <td>23</td>\n",
       "    </tr>\n",
       "    <tr>\n",
       "        <td>2</td>\n",
       "        <td>1</td>\n",
       "        <td>17</td>\n",
       "    </tr>\n",
       "    <tr>\n",
       "        <td>2</td>\n",
       "        <td>2</td>\n",
       "        <td>55</td>\n",
       "    </tr>\n",
       "</table>"
      ],
      "text/plain": [
       "[(0, 0, 106),\n",
       " (0, 1, 80),\n",
       " (0, 2, 171),\n",
       " (1, 0, 146),\n",
       " (1, 1, 109),\n",
       " (1, 2, 212),\n",
       " (2, 0, 23),\n",
       " (2, 1, 17),\n",
       " (2, 2, 55)]"
      ]
     },
     "execution_count": 7,
     "metadata": {},
     "output_type": "execute_result"
    }
   ],
   "source": [
    "\"\"\"\n",
    "Expected output below- don't re-evaluate this cell!\n",
    "\n",
    "NOTE: A valid answer must work for ALL inputs of the given type,\n",
    "not just this example.  I.e. do not hardcode around this answer / etc!\n",
    "\"\"\""
   ]
  },
  {
   "cell_type": "markdown",
   "metadata": {},
   "source": [
    "Problem 2: The Sales Database [35 points]\n",
    "----------------------------------------------\n",
    "\n",
    "We've prepared and loaded a dataset related to sales data from a company. The dataset has the following schema:\n",
    "\n",
    "> `Holidays (WeekDate, IsHoliday)`\n",
    "\n",
    "> `Stores (Store, Type, Size)`\n",
    "\n",
    "> `TemporalData(Store,WeekDate,Temperature,FuelPrice,CPI,UnemploymentRate)`\n",
    "\n",
    "> `Sales (Store, Dept, WeekDate, WeeklySales)`\n",
    "\n",
    "Before you start writing queries on the database, find the schema and the constraints (keys, foreign keys). "
   ]
  },
  {
   "cell_type": "markdown",
   "metadata": {},
   "source": [
    "### Part (a): Sales during Holidays [5 points]\n",
    "\n",
    "Using a single SQL query, find the stores with the largest and smallest overall sales during holiday weeks. Further requirements:\n",
    "* Use the `WITH` clause before the main body of the query to compute a subquery if necessary.\n",
    "* Return a relation with schema `(Store, AllSales)`.\n",
    "\n",
    "Write your query here:"
   ]
  },
  {
   "cell_type": "code",
   "execution_count": 99,
   "metadata": {},
   "outputs": [
    {
     "name": "stdout",
     "output_type": "stream",
     "text": [
      " * sqlite:///PS1.db\n",
      "Done.\n"
     ]
    },
    {
     "data": {
      "text/html": [
       "<table>\n",
       "    <tr>\n",
       "        <th>Store</th>\n",
       "        <th>AllSales</th>\n",
       "    </tr>\n",
       "    <tr>\n",
       "        <td>20</td>\n",
       "        <td>22490350.81</td>\n",
       "    </tr>\n",
       "    <tr>\n",
       "        <td>33</td>\n",
       "        <td>2625945.19</td>\n",
       "    </tr>\n",
       "</table>"
      ],
      "text/plain": [
       "[(20, 22490350.81), (33, 2625945.19)]"
      ]
     },
     "execution_count": 99,
     "metadata": {},
     "output_type": "execute_result"
    }
   ],
   "source": [
    "%%sql\n",
    "WITH StoreSaleHoliday(Store, StoreSaleHoliday) as\n",
    "    (SELECT Sales.Store, SUM(Sales.WeeklySales)\n",
    "    FROM Sales, Holidays\n",
    "    WHERE Sales.WeekDate = Holidays.WeekDate\n",
    "    AND Holidays.IsHoliday = 'TRUE'\n",
    "    GROUP BY Sales.Store\n",
    "    ),\n",
    "    FindMax(FindMax) as\n",
    "    (SELECT MAX(StoreSaleHoliday.StoreSaleHoliday)\n",
    "    FROM StoreSaleHoliday),\n",
    "    FindMin(FindMin) as\n",
    "    (SELECT MIN(StoreSaleHoliday.StoreSaleHoliday)\n",
    "    FROM StoreSaleHoliday)\n",
    "    SELECT StoreSaleHoliday.Store as Store, ROUND(StoreSaleHoliday.StoreSaleHoliday, 2) as AllSales\n",
    "    FROM StoreSaleHoliday, FindMax\n",
    "    WHERE StoreSaleHoliday.StoreSaleHoliday IN FindMax\n",
    "    UNION\n",
    "    SELECT Store as Store, ROUND(StoreSaleHoliday.StoreSaleHoliday, 2) as AllSales\n",
    "    FROM StoreSaleHoliday, FindMin\n",
    "    WHERE StoreSaleHoliday.StoreSaleHoliday IN FindMin;"
   ]
  },
  {
   "cell_type": "code",
   "execution_count": 15,
   "metadata": {},
   "outputs": [
    {
     "name": "stdout",
     "output_type": "stream",
     "text": [
      "Done.\n"
     ]
    },
    {
     "data": {
      "text/html": [
       "<table>\n",
       "    <tr>\n",
       "        <th>Store</th>\n",
       "        <th>AllSales</th>\n",
       "    </tr>\n",
       "    <tr>\n",
       "        <td>20</td>\n",
       "        <td>22490350.81</td>\n",
       "    </tr>\n",
       "    <tr>\n",
       "        <td>33</td>\n",
       "        <td>2625945.19</td>\n",
       "    </tr>\n",
       "</table>"
      ],
      "text/plain": [
       "[(20, 22490350.81000001), (33, 2625945.1900000004)]"
      ]
     },
     "execution_count": 15,
     "metadata": {},
     "output_type": "execute_result"
    }
   ],
   "source": [
    "\"\"\"\n",
    "Expected output below- don't re-evaluate this cell!\n",
    "\n",
    "NOTE: A valid answer must work for ALL inputs of the given type,\n",
    "not just this example.  I.e. do not hardcode around this answer / etc!\n",
    "\"\"\""
   ]
  },
  {
   "cell_type": "markdown",
   "metadata": {},
   "source": [
    "### Part (b): When Holidays do not help Sales [10 points]\n",
    "\n",
    "Using a single SQL query, compute the **number** of non-holiday weeks that had larger sales than the overall average sales during holiday weeks. Further requirements:\n",
    "* Use the `WITH` clause before the main body of the query to compute a subquery if necessary.\n",
    "* Return a relation with schema `(NumNonHolidays)`.\n",
    "\n",
    "Write your query here:"
   ]
  },
  {
   "cell_type": "code",
   "execution_count": 100,
   "metadata": {},
   "outputs": [
    {
     "name": "stdout",
     "output_type": "stream",
     "text": [
      " * sqlite:///PS1.db\n",
      "Done.\n"
     ]
    },
    {
     "data": {
      "text/html": [
       "<table>\n",
       "    <tr>\n",
       "        <th>NumNonHolidays</th>\n",
       "    </tr>\n",
       "    <tr>\n",
       "        <td>8</td>\n",
       "    </tr>\n",
       "</table>"
      ],
      "text/plain": [
       "[(8,)]"
      ]
     },
     "execution_count": 100,
     "metadata": {},
     "output_type": "execute_result"
    }
   ],
   "source": [
    "%%sql\n",
    "\n",
    "WITH OverallHolidayWeeklySale(WeekDate, OverallHolidayWeeklySale) as\n",
    "    (SELECT Sales.WeekDate, SUM(Sales.WeeklySales)\n",
    "     FROM Sales, Holidays\n",
    "     WHERE Sales.WeekDate = Holidays.WeekDate\n",
    "     AND Holidays.IsHoliday = 'TRUE'\n",
    "     GROUP BY Sales.WeekDate\n",
    "    ),\n",
    "    OverallHolidayWeeklyAverageSale(OverallHolidayWeeklyAverageSale) as\n",
    "    (SELECT AVG(OverallHolidayWeeklySale.OverallHolidayWeeklySale)\n",
    "     FROM OverallHolidayWeeklySale\n",
    "    ),\n",
    "    NonHolidaySale(WeekDate, NonHolidaySale) as\n",
    "    (SELECT Sales.WeekDate, SUM(Sales.WeeklySales)\n",
    "    FROM Sales, Holidays\n",
    "    WHERE Sales.WeekDate = Holidays.WeekDate\n",
    "    AND Holidays.IsHoliday = 'FALSE'\n",
    "    GROUP BY Sales.WeekDate)\n",
    "    SELECT COUNT(*) as NumNonHolidays\n",
    "    FROM NonHolidaySale, OverallHolidayWeeklyAverageSale\n",
    "    WHERE NonHolidaySale.NonHolidaySale > OverallHolidayWeeklyAverageSale.OverallHolidayWeeklyAverageSale;"
   ]
  },
  {
   "cell_type": "code",
   "execution_count": 19,
   "metadata": {},
   "outputs": [
    {
     "name": "stdout",
     "output_type": "stream",
     "text": [
      "Done.\n"
     ]
    },
    {
     "data": {
      "text/html": [
       "<table>\n",
       "    <tr>\n",
       "        <th>NumNonHolidays</th>\n",
       "    </tr>\n",
       "    <tr>\n",
       "        <td>8</td>\n",
       "    </tr>\n",
       "</table>"
      ],
      "text/plain": [
       "[(8,)]"
      ]
     },
     "execution_count": 19,
     "metadata": {},
     "output_type": "execute_result"
    }
   ],
   "source": [
    "\"\"\"\n",
    "Expected output below- don't re-evaluate this cell!\n",
    "\n",
    "NOTE: A valid answer must work for ALL inputs of the given type,\n",
    "not just this example.  I.e. do not hardcode around this answer / etc!\n",
    "\"\"\""
   ]
  },
  {
   "cell_type": "markdown",
   "metadata": {},
   "source": [
    "### Part (c): Total Sales [5 points]\n",
    "\n",
    "Using a single SQL query, compute the total sales per month overall for each type of store. Further requirements:\n",
    "* Return a relation with schema `(type, Month, TotalSales)`.\n",
    "\n",
    "*Hint:* SQLite3 does not support native operations on the DATE datatype. To create a workaround, you can use the `LIKE` predicate and the string concatenation operator (||). You can also use the substring operator that SQLite3 supports (`substr`).\n",
    "\n",
    "Write your query here:"
   ]
  },
  {
   "cell_type": "code",
   "execution_count": 101,
   "metadata": {
    "scrolled": true
   },
   "outputs": [
    {
     "name": "stdout",
     "output_type": "stream",
     "text": [
      " * sqlite:///PS1.db\n",
      "Done.\n"
     ]
    },
    {
     "data": {
      "text/html": [
       "<table>\n",
       "    <tr>\n",
       "        <th>type</th>\n",
       "        <th>Month</th>\n",
       "        <th>TotalSale</th>\n",
       "    </tr>\n",
       "    <tr>\n",
       "        <td>A</td>\n",
       "        <td>01</td>\n",
       "        <td>214176168.1</td>\n",
       "    </tr>\n",
       "    <tr>\n",
       "        <td>A</td>\n",
       "        <td>02</td>\n",
       "        <td>366507672.38</td>\n",
       "    </tr>\n",
       "    <tr>\n",
       "        <td>A</td>\n",
       "        <td>03</td>\n",
       "        <td>380774533.1</td>\n",
       "    </tr>\n",
       "    <tr>\n",
       "        <td>A</td>\n",
       "        <td>04</td>\n",
       "        <td>416180129.88</td>\n",
       "    </tr>\n",
       "    <tr>\n",
       "        <td>A</td>\n",
       "        <td>05</td>\n",
       "        <td>359086595.84</td>\n",
       "    </tr>\n",
       "    <tr>\n",
       "        <td>A</td>\n",
       "        <td>06</td>\n",
       "        <td>399448005.77</td>\n",
       "    </tr>\n",
       "    <tr>\n",
       "        <td>A</td>\n",
       "        <td>07</td>\n",
       "        <td>417243210.39</td>\n",
       "    </tr>\n",
       "    <tr>\n",
       "        <td>A</td>\n",
       "        <td>08</td>\n",
       "        <td>394863683.69</td>\n",
       "    </tr>\n",
       "    <tr>\n",
       "        <td>A</td>\n",
       "        <td>09</td>\n",
       "        <td>373118622.19</td>\n",
       "    </tr>\n",
       "    <tr>\n",
       "        <td>A</td>\n",
       "        <td>10</td>\n",
       "        <td>377131480.28</td>\n",
       "    </tr>\n",
       "    <tr>\n",
       "        <td>A</td>\n",
       "        <td>11</td>\n",
       "        <td>264721386.61</td>\n",
       "    </tr>\n",
       "    <tr>\n",
       "        <td>A</td>\n",
       "        <td>12</td>\n",
       "        <td>367763234.52</td>\n",
       "    </tr>\n",
       "    <tr>\n",
       "        <td>B</td>\n",
       "        <td>01</td>\n",
       "        <td>95446454.8</td>\n",
       "    </tr>\n",
       "    <tr>\n",
       "        <td>B</td>\n",
       "        <td>02</td>\n",
       "        <td>167671723.74</td>\n",
       "    </tr>\n",
       "    <tr>\n",
       "        <td>B</td>\n",
       "        <td>03</td>\n",
       "        <td>175136037.61</td>\n",
       "    </tr>\n",
       "    <tr>\n",
       "        <td>B</td>\n",
       "        <td>04</td>\n",
       "        <td>190880594.59</td>\n",
       "    </tr>\n",
       "    <tr>\n",
       "        <td>B</td>\n",
       "        <td>05</td>\n",
       "        <td>163455609.25</td>\n",
       "    </tr>\n",
       "    <tr>\n",
       "        <td>B</td>\n",
       "        <td>06</td>\n",
       "        <td>186362500.36</td>\n",
       "    </tr>\n",
       "    <tr>\n",
       "        <td>B</td>\n",
       "        <td>07</td>\n",
       "        <td>193743232.0</td>\n",
       "    </tr>\n",
       "    <tr>\n",
       "        <td>B</td>\n",
       "        <td>08</td>\n",
       "        <td>181504990.04</td>\n",
       "    </tr>\n",
       "    <tr>\n",
       "        <td>B</td>\n",
       "        <td>09</td>\n",
       "        <td>168953941.76</td>\n",
       "    </tr>\n",
       "    <tr>\n",
       "        <td>B</td>\n",
       "        <td>10</td>\n",
       "        <td>170604194.6</td>\n",
       "    </tr>\n",
       "    <tr>\n",
       "        <td>B</td>\n",
       "        <td>11</td>\n",
       "        <td>125545696.87</td>\n",
       "    </tr>\n",
       "    <tr>\n",
       "        <td>B</td>\n",
       "        <td>12</td>\n",
       "        <td>181395761.2</td>\n",
       "    </tr>\n",
       "    <tr>\n",
       "        <td>C</td>\n",
       "        <td>01</td>\n",
       "        <td>22975815.59</td>\n",
       "    </tr>\n",
       "    <tr>\n",
       "        <td>C</td>\n",
       "        <td>02</td>\n",
       "        <td>34548494.33</td>\n",
       "    </tr>\n",
       "    <tr>\n",
       "        <td>C</td>\n",
       "        <td>03</td>\n",
       "        <td>36875330.57</td>\n",
       "    </tr>\n",
       "    <tr>\n",
       "        <td>C</td>\n",
       "        <td>04</td>\n",
       "        <td>39799060.5</td>\n",
       "    </tr>\n",
       "    <tr>\n",
       "        <td>C</td>\n",
       "        <td>05</td>\n",
       "        <td>34583366.86</td>\n",
       "    </tr>\n",
       "    <tr>\n",
       "        <td>C</td>\n",
       "        <td>06</td>\n",
       "        <td>36819380.71</td>\n",
       "    </tr>\n",
       "    <tr>\n",
       "        <td>C</td>\n",
       "        <td>07</td>\n",
       "        <td>39014534.86</td>\n",
       "    </tr>\n",
       "    <tr>\n",
       "        <td>C</td>\n",
       "        <td>08</td>\n",
       "        <td>36721535.09</td>\n",
       "    </tr>\n",
       "    <tr>\n",
       "        <td>C</td>\n",
       "        <td>09</td>\n",
       "        <td>36688615.31</td>\n",
       "    </tr>\n",
       "    <tr>\n",
       "        <td>C</td>\n",
       "        <td>10</td>\n",
       "        <td>37049112.71</td>\n",
       "    </tr>\n",
       "    <tr>\n",
       "        <td>C</td>\n",
       "        <td>11</td>\n",
       "        <td>22748641.53</td>\n",
       "    </tr>\n",
       "    <tr>\n",
       "        <td>C</td>\n",
       "        <td>12</td>\n",
       "        <td>27679639.48</td>\n",
       "    </tr>\n",
       "</table>"
      ],
      "text/plain": [
       "[('A', '01', 214176168.1),\n",
       " ('A', '02', 366507672.38),\n",
       " ('A', '03', 380774533.1),\n",
       " ('A', '04', 416180129.88),\n",
       " ('A', '05', 359086595.84),\n",
       " ('A', '06', 399448005.77),\n",
       " ('A', '07', 417243210.39),\n",
       " ('A', '08', 394863683.69),\n",
       " ('A', '09', 373118622.19),\n",
       " ('A', '10', 377131480.28),\n",
       " ('A', '11', 264721386.61),\n",
       " ('A', '12', 367763234.52),\n",
       " ('B', '01', 95446454.8),\n",
       " ('B', '02', 167671723.74),\n",
       " ('B', '03', 175136037.61),\n",
       " ('B', '04', 190880594.59),\n",
       " ('B', '05', 163455609.25),\n",
       " ('B', '06', 186362500.36),\n",
       " ('B', '07', 193743232.0),\n",
       " ('B', '08', 181504990.04),\n",
       " ('B', '09', 168953941.76),\n",
       " ('B', '10', 170604194.6),\n",
       " ('B', '11', 125545696.87),\n",
       " ('B', '12', 181395761.2),\n",
       " ('C', '01', 22975815.59),\n",
       " ('C', '02', 34548494.33),\n",
       " ('C', '03', 36875330.57),\n",
       " ('C', '04', 39799060.5),\n",
       " ('C', '05', 34583366.86),\n",
       " ('C', '06', 36819380.71),\n",
       " ('C', '07', 39014534.86),\n",
       " ('C', '08', 36721535.09),\n",
       " ('C', '09', 36688615.31),\n",
       " ('C', '10', 37049112.71),\n",
       " ('C', '11', 22748641.53),\n",
       " ('C', '12', 27679639.48)]"
      ]
     },
     "execution_count": 101,
     "metadata": {},
     "output_type": "execute_result"
    }
   ],
   "source": [
    "%%sql\n",
    "SELECT Stores.Type as type, SUBSTR(Sales.WeekDate,6,2) as Month, ROUND(SUM(Sales.WeeklySales), 2) as TotalSale\n",
    "FROM Stores, Sales\n",
    "WHERE Sales.Store = Stores.Store\n",
    "GROUP BY type, Month\n",
    "ORDER BY type ASC, Month ASC;"
   ]
  },
  {
   "cell_type": "code",
   "execution_count": 21,
   "metadata": {
    "scrolled": true
   },
   "outputs": [
    {
     "name": "stdout",
     "output_type": "stream",
     "text": [
      "Done.\n"
     ]
    },
    {
     "data": {
      "text/html": [
       "<table>\n",
       "    <tr>\n",
       "        <th>type</th>\n",
       "        <th>Month</th>\n",
       "        <th>TotalSales</th>\n",
       "    </tr>\n",
       "    <tr>\n",
       "        <td>A</td>\n",
       "        <td>01</td>\n",
       "        <td>214176168.1</td>\n",
       "    </tr>\n",
       "    <tr>\n",
       "        <td>A</td>\n",
       "        <td>02</td>\n",
       "        <td>366507672.38</td>\n",
       "    </tr>\n",
       "    <tr>\n",
       "        <td>A</td>\n",
       "        <td>03</td>\n",
       "        <td>380774533.1</td>\n",
       "    </tr>\n",
       "    <tr>\n",
       "        <td>A</td>\n",
       "        <td>04</td>\n",
       "        <td>416180129.88</td>\n",
       "    </tr>\n",
       "    <tr>\n",
       "        <td>A</td>\n",
       "        <td>05</td>\n",
       "        <td>359086595.84</td>\n",
       "    </tr>\n",
       "    <tr>\n",
       "        <td>A</td>\n",
       "        <td>06</td>\n",
       "        <td>399448005.77</td>\n",
       "    </tr>\n",
       "    <tr>\n",
       "        <td>A</td>\n",
       "        <td>07</td>\n",
       "        <td>417243210.39</td>\n",
       "    </tr>\n",
       "    <tr>\n",
       "        <td>A</td>\n",
       "        <td>08</td>\n",
       "        <td>394863683.69</td>\n",
       "    </tr>\n",
       "    <tr>\n",
       "        <td>A</td>\n",
       "        <td>09</td>\n",
       "        <td>373118622.19</td>\n",
       "    </tr>\n",
       "    <tr>\n",
       "        <td>A</td>\n",
       "        <td>10</td>\n",
       "        <td>377131480.28</td>\n",
       "    </tr>\n",
       "    <tr>\n",
       "        <td>A</td>\n",
       "        <td>11</td>\n",
       "        <td>264721386.61</td>\n",
       "    </tr>\n",
       "    <tr>\n",
       "        <td>A</td>\n",
       "        <td>12</td>\n",
       "        <td>367763234.52</td>\n",
       "    </tr>\n",
       "    <tr>\n",
       "        <td>B</td>\n",
       "        <td>01</td>\n",
       "        <td>95446454.8</td>\n",
       "    </tr>\n",
       "    <tr>\n",
       "        <td>B</td>\n",
       "        <td>02</td>\n",
       "        <td>167671723.74</td>\n",
       "    </tr>\n",
       "    <tr>\n",
       "        <td>B</td>\n",
       "        <td>03</td>\n",
       "        <td>175136037.61</td>\n",
       "    </tr>\n",
       "    <tr>\n",
       "        <td>B</td>\n",
       "        <td>04</td>\n",
       "        <td>190880594.59</td>\n",
       "    </tr>\n",
       "    <tr>\n",
       "        <td>B</td>\n",
       "        <td>05</td>\n",
       "        <td>163455609.25</td>\n",
       "    </tr>\n",
       "    <tr>\n",
       "        <td>B</td>\n",
       "        <td>06</td>\n",
       "        <td>186362500.36</td>\n",
       "    </tr>\n",
       "    <tr>\n",
       "        <td>B</td>\n",
       "        <td>07</td>\n",
       "        <td>193743232.0</td>\n",
       "    </tr>\n",
       "    <tr>\n",
       "        <td>B</td>\n",
       "        <td>08</td>\n",
       "        <td>181504990.04</td>\n",
       "    </tr>\n",
       "    <tr>\n",
       "        <td>B</td>\n",
       "        <td>09</td>\n",
       "        <td>168953941.76</td>\n",
       "    </tr>\n",
       "    <tr>\n",
       "        <td>B</td>\n",
       "        <td>10</td>\n",
       "        <td>170604194.6</td>\n",
       "    </tr>\n",
       "    <tr>\n",
       "        <td>B</td>\n",
       "        <td>11</td>\n",
       "        <td>125545696.87</td>\n",
       "    </tr>\n",
       "    <tr>\n",
       "        <td>B</td>\n",
       "        <td>12</td>\n",
       "        <td>181395761.2</td>\n",
       "    </tr>\n",
       "    <tr>\n",
       "        <td>C</td>\n",
       "        <td>01</td>\n",
       "        <td>22975815.59</td>\n",
       "    </tr>\n",
       "    <tr>\n",
       "        <td>C</td>\n",
       "        <td>02</td>\n",
       "        <td>34548494.33</td>\n",
       "    </tr>\n",
       "    <tr>\n",
       "        <td>C</td>\n",
       "        <td>03</td>\n",
       "        <td>36875330.57</td>\n",
       "    </tr>\n",
       "    <tr>\n",
       "        <td>C</td>\n",
       "        <td>04</td>\n",
       "        <td>39799060.5</td>\n",
       "    </tr>\n",
       "    <tr>\n",
       "        <td>C</td>\n",
       "        <td>05</td>\n",
       "        <td>34583366.86</td>\n",
       "    </tr>\n",
       "    <tr>\n",
       "        <td>C</td>\n",
       "        <td>06</td>\n",
       "        <td>36819380.71</td>\n",
       "    </tr>\n",
       "    <tr>\n",
       "        <td>C</td>\n",
       "        <td>07</td>\n",
       "        <td>39014534.86</td>\n",
       "    </tr>\n",
       "    <tr>\n",
       "        <td>C</td>\n",
       "        <td>08</td>\n",
       "        <td>36721535.09</td>\n",
       "    </tr>\n",
       "    <tr>\n",
       "        <td>C</td>\n",
       "        <td>09</td>\n",
       "        <td>36688615.31</td>\n",
       "    </tr>\n",
       "    <tr>\n",
       "        <td>C</td>\n",
       "        <td>10</td>\n",
       "        <td>37049112.71</td>\n",
       "    </tr>\n",
       "    <tr>\n",
       "        <td>C</td>\n",
       "        <td>11</td>\n",
       "        <td>22748641.53</td>\n",
       "    </tr>\n",
       "    <tr>\n",
       "        <td>C</td>\n",
       "        <td>12</td>\n",
       "        <td>27679639.48</td>\n",
       "    </tr>\n",
       "</table>"
      ],
      "text/plain": [
       "[(u'A', u'01', 214176168.09999868),\n",
       " (u'A', u'02', 366507672.3800041),\n",
       " (u'A', u'03', 380774533.0999994),\n",
       " (u'A', u'04', 416180129.8799989),\n",
       " (u'A', u'05', 359086595.83999956),\n",
       " (u'A', u'06', 399448005.7700002),\n",
       " (u'A', u'07', 417243210.38999707),\n",
       " (u'A', u'08', 394863683.68999743),\n",
       " (u'A', u'09', 373118622.1900005),\n",
       " (u'A', u'10', 377131480.28000176),\n",
       " (u'A', u'11', 264721386.60999998),\n",
       " (u'A', u'12', 367763234.5200006),\n",
       " (u'B', u'01', 95446454.79999965),\n",
       " (u'B', u'02', 167671723.73999923),\n",
       " (u'B', u'03', 175136037.61000007),\n",
       " (u'B', u'04', 190880594.58999932),\n",
       " (u'B', u'05', 163455609.2500001),\n",
       " (u'B', u'06', 186362500.36000022),\n",
       " (u'B', u'07', 193743231.9999991),\n",
       " (u'B', u'08', 181504990.0400001),\n",
       " (u'B', u'09', 168953941.7599988),\n",
       " (u'B', u'10', 170604194.5999999),\n",
       " (u'B', u'11', 125545696.86999977),\n",
       " (u'B', u'12', 181395761.19999966),\n",
       " (u'C', u'01', 22975815.59),\n",
       " (u'C', u'02', 34548494.330000006),\n",
       " (u'C', u'03', 36875330.56999996),\n",
       " (u'C', u'04', 39799060.49999998),\n",
       " (u'C', u'05', 34583366.86000001),\n",
       " (u'C', u'06', 36819380.709999934),\n",
       " (u'C', u'07', 39014534.860000074),\n",
       " (u'C', u'08', 36721535.09000013),\n",
       " (u'C', u'09', 36688615.31000005),\n",
       " (u'C', u'10', 37049112.70999994),\n",
       " (u'C', u'11', 22748641.530000072),\n",
       " (u'C', u'12', 27679639.47999999)]"
      ]
     },
     "execution_count": 21,
     "metadata": {},
     "output_type": "execute_result"
    }
   ],
   "source": [
    "\"\"\"\n",
    "Expected output below- don't re-evaluate this cell!\n",
    "\n",
    "NOTE: A valid answer must work for ALL inputs of the given type,\n",
    "not just this example.  I.e. do not hardcode around this answer / etc!\n",
    "\"\"\""
   ]
  },
  {
   "cell_type": "markdown",
   "metadata": {},
   "source": [
    "### Part (d): Computing Correlations [15 points]\n",
    "\n",
    "The goal of this exercise is to find out whether each one of the 4 numeric attributes in `TemporalData` is\n",
    "positively or negatively correlated with sales.\n",
    "\n",
    "For our purposes, the intuitive notion of correlation is defined using a\n",
    "standard statistical quantity known as the *Pearson correlation coefficient*.\n",
    "Given two numeric random variables $X$ and $Y$, it is defined as follows:\n",
    "\n",
    "$$\\rho_{X,Y} = \\frac{E[XY] - E[X]E[Y]}{\\sqrt{E[X^2] - E[X]^2} \\sqrt{E[Y^2] - E[Y]^2}}$$\n",
    "\n",
    "On a given sample of data with $n$ examples each for $X$ and $Y$ (label them\n",
    "$x_i$ and $y_i$ respectively for $i = 1 \\dots n$), it is estimated as follows:\n",
    "\n",
    "\\begin{align*}\n",
    "\\rho_{X,Y} = \\frac{\\sum_{i=1}^n (x_i - \\bar{x})(y_i - \\bar{y})}{\\sqrt{\\sum_{i=1}^n (x_i - \\bar{x})^2} \\sqrt{\\sum_{i=1}^n (y_i - \\bar{y})^2}}\n",
    "\\end{align*}\n",
    "In the above, $\\bar{x}$ and $\\bar{y}$ are the sample means, i.e.,\n",
    "$\\bar{x} = \\frac{1}{n}\\sum_{i=1}^n x_i$, and $\\bar{x} = \\frac{1}{n}\\sum_{i=1}^n y_i$.\n",
    "\n",
    "Further requirements:\n",
    "* Return a relation with schema `(AttributeName VARCHAR(20), CorrelationSign Integer)`. \n",
    "* The values of AttributeName can be hardcoded string literals, but the values\n",
    "of `CorrelationSign` must be computed automatically using SQL queries over\n",
    "the given database instance.\n",
    "* You can use multiple SQL statements to compute the result. It might be of help to create and update your own tables.\n",
    "\n",
    "Write your query here:"
   ]
  },
  {
   "cell_type": "code",
   "execution_count": 18,
   "metadata": {},
   "outputs": [
    {
     "name": "stdout",
     "output_type": "stream",
     "text": [
      " * sqlite:///PS1.db\n",
      "Done.\n",
      "Done.\n",
      "1 rows affected.\n",
      "1 rows affected.\n",
      "1 rows affected.\n",
      "1 rows affected.\n",
      "Done.\n"
     ]
    },
    {
     "data": {
      "text/html": [
       "<table>\n",
       "    <tr>\n",
       "        <th>AttributeName</th>\n",
       "        <th>CorrelationSign</th>\n",
       "    </tr>\n",
       "    <tr>\n",
       "        <td>CPI</td>\n",
       "        <td>-1</td>\n",
       "    </tr>\n",
       "    <tr>\n",
       "        <td>FuelPrice</td>\n",
       "        <td>-1</td>\n",
       "    </tr>\n",
       "    <tr>\n",
       "        <td>Temperature</td>\n",
       "        <td>-1</td>\n",
       "    </tr>\n",
       "    <tr>\n",
       "        <td>UnemploymentRate</td>\n",
       "        <td>-1</td>\n",
       "    </tr>\n",
       "</table>"
      ],
      "text/plain": [
       "[('CPI', -1), ('FuelPrice', -1), ('Temperature', -1), ('UnemploymentRate', -1)]"
      ]
     },
     "execution_count": 18,
     "metadata": {},
     "output_type": "execute_result"
    }
   ],
   "source": [
    "%%sql\n",
    "\n",
    "DROP TABLE IF EXISTS AttributeNames;\n",
    "CREATE TABLE AttributeNames(\n",
    "    AttributeName CHAR(20) PRIMARY KEY \n",
    ");\n",
    "\n",
    "INSERT INTO AttributeNames VALUES('Temperature');\n",
    "INSERT INTO AttributeNames VALUES('FuelPrice');\n",
    "INSERT INTO AttributeNames VALUES('CPI');\n",
    "INSERT INTO AttributeNames VALUES('UnemploymentRate');\n",
    "\n",
    "\n",
    " WITH   AverageWeeklySaleOverStorePerWeek(AverageWeeklySaleOverStorePerWeek) as\n",
    "    (SELECT AVG(Sales.WeeklySales)\n",
    "     FROM Sales\n",
    "    ),\n",
    "    AverageTemperature(Average) as\n",
    "    (SELECT AVG(TemporalData.Temperature)\n",
    "     FROM TemporalData, Sales\n",
    "     WHERE TemporalData.WeekDate = Sales.WeekDate AND TemporalData.Store = Sales.Store\n",
    "    ),\n",
    "    AverageFuelPrice(Average) as\n",
    "    (SELECT AVG(TemporalData.FuelPrice)\n",
    "     FROM TemporalData, Sales\n",
    "     WHERE TemporalData.WeekDate = Sales.WeekDate AND TemporalData.Store = Sales.Store\n",
    "    ),\n",
    "    AverageCPI(Average) as\n",
    "    (SELECT AVG(TemporalData.CPI)\n",
    "     FROM TemporalData, Sales\n",
    "     WHERE TemporalData.WeekDate = Sales.WeekDate AND TemporalData.Store = Sales.Store\n",
    "    ),\n",
    "    AverageUnemploymentRate(Average) as\n",
    "    (SELECT AVG(TemporalData.UnemploymentRate)\n",
    "     FROM TemporalData, Sales\n",
    "     WHERE TemporalData.WeekDate = Sales.WeekDate AND TemporalData.Store = Sales.Store\n",
    "    ),\n",
    "    DeviationWeeklySale(Store, WeekDate, Deviation) as\n",
    "    (SELECT Sales.Store,\n",
    "     Sales.WeekDate,\n",
    "     Sales.WeeklySales - AverageWeeklySaleOverStorePerWeek.AverageWeeklySaleOverStorePerWeek\n",
    "     FROM Sales, AverageWeeklySaleOverStorePerWeek\n",
    "    ),\n",
    "    DeviationWeeklyTemperature(Store, WeekDate, Deviation) as\n",
    "    (SELECT TemporalData.Store, TemporalData.WeekDate, TemporalData.Temperature - AverageTemperature.Average\n",
    "     FROM TemporalData, AverageTemperature\n",
    "    ),\n",
    "    DeviationWeeklyFuelPrice(Store, WeekDate, Deviation) as\n",
    "    (SELECT TemporalData.Store, TemporalData.WeekDate, TemporalData.FuelPrice - AverageFuelPrice.Average\n",
    "     FROM TemporalData, AverageFuelPrice\n",
    "    ),\n",
    "    DeviationWeeklyCPI(Store, WeekDate, Deviation) as\n",
    "    (SELECT TemporalData.Store, TemporalData.WeekDate, TemporalData.CPI - AverageCPI.Average\n",
    "     FROM TemporalData, AverageCPI\n",
    "    ),\n",
    "    DeviationWeeklyUnemploymentRate(Store, WeekDate, Deviation) as\n",
    "    (SELECT TemporalData.Store, TemporalData.WeekDate, TemporalData.UnemploymentRate - AverageUnemploymentRate.Average\n",
    "     FROM TemporalData, AverageUnemploymentRate\n",
    "    )\n",
    "    \n",
    "    SELECT AttributeNames.AttributeName as AttributeName,\n",
    "     -1 + 2 * (SUM(DeviationWeeklySale.Deviation * DeviationWeeklyTemperature.Deviation) > 0) as CorrelationSign\n",
    "     FROM AttributeNames, DeviationWeeklySale, DeviationWeeklyTemperature\n",
    "     WHERE DeviationWeeklyTemperature.Store = DeviationWeeklySale.Store\n",
    "     AND DeviationWeeklyTemperature.WeekDate = DeviationWeeklySale.WeekDate\n",
    "     AND AttributeNames.AttributeName = 'Temperature'\n",
    "        \n",
    "     UNION\n",
    "    \n",
    "     SELECT AttributeNames.AttributeName as AttributeName,\n",
    "     -1 + 2 * (SUM(DeviationWeeklySale.Deviation * DeviationWeeklyFuelPrice.Deviation) > 0) as CorrelationSign\n",
    "     FROM AttributeNames, DeviationWeeklySale, DeviationWeeklyFuelPrice\n",
    "     WHERE DeviationWeeklyFuelPrice.Store = DeviationWeeklySale.Store\n",
    "     AND DeviationWeeklyFuelPrice.WeekDate = DeviationWeeklySale.WeekDate\n",
    "     AND AttributeNames.AttributeName = 'FuelPrice'\n",
    "    \n",
    "     UNION\n",
    "        \n",
    "     SELECT AttributeNames.AttributeName as AttributeName,\n",
    "     -1 + 2 * (SUM(DeviationWeeklySale.Deviation * DeviationWeeklyCPI.Deviation) > 0) as CorrelationSign\n",
    "     FROM AttributeNames, DeviationWeeklySale, DeviationWeeklyCPI\n",
    "     WHERE DeviationWeeklyCPI.Store = DeviationWeeklySale.Store\n",
    "     AND DeviationWeeklyCPI.WeekDate = DeviationWeeklySale.WeekDate\n",
    "     AND AttributeNames.AttributeName = 'CPI'\n",
    "        \n",
    "     UNION\n",
    "    \n",
    "     SELECT AttributeNames.AttributeName as AttributeName,\n",
    "     -1 + 2 * (SUM(DeviationWeeklySale.Deviation * DeviationWeeklyUnemploymentRate.Deviation) > 0) as CorrelationSign\n",
    "     FROM AttributeNames, DeviationWeeklySale, DeviationWeeklyUnemploymentRate\n",
    "     WHERE DeviationWeeklyUnemploymentRate.Store = DeviationWeeklySale.Store\n",
    "     AND DeviationWeeklyUnemploymentRate.WeekDate = DeviationWeeklySale.WeekDate\n",
    "     AND AttributeNames.AttributeName = 'UnemploymentRate';"
   ]
  },
  {
   "cell_type": "code",
   "execution_count": 7,
   "metadata": {},
   "outputs": [
    {
     "name": "stdout",
     "output_type": "stream",
     "text": [
      " * sqlite:///PS1.db\n",
      "Done.\n",
      "Done.\n",
      "1 rows affected.\n",
      "1 rows affected.\n",
      "1 rows affected.\n",
      "1 rows affected.\n",
      "Done.\n"
     ]
    },
    {
     "data": {
      "text/html": [
       "<table>\n",
       "    <tr>\n",
       "        <th>AttributeName</th>\n",
       "        <th>CorrelationSign</th>\n",
       "    </tr>\n",
       "    <tr>\n",
       "        <td>CPI</td>\n",
       "        <td>-1</td>\n",
       "    </tr>\n",
       "    <tr>\n",
       "        <td>FuelPrice</td>\n",
       "        <td>1</td>\n",
       "    </tr>\n",
       "    <tr>\n",
       "        <td>Temperature</td>\n",
       "        <td>-1</td>\n",
       "    </tr>\n",
       "    <tr>\n",
       "        <td>UnemploymentRate</td>\n",
       "        <td>-1</td>\n",
       "    </tr>\n",
       "</table>"
      ],
      "text/plain": [
       "[('CPI', -1), ('FuelPrice', 1), ('Temperature', -1), ('UnemploymentRate', -1)]"
      ]
     },
     "execution_count": 7,
     "metadata": {},
     "output_type": "execute_result"
    }
   ],
   "source": [
    "%%sql\n",
    "\n",
    "DROP TABLE IF EXISTS AttributeNames;\n",
    "CREATE TABLE AttributeNames(\n",
    "    AttributeName CHAR(20) PRIMARY KEY \n",
    ");\n",
    "\n",
    "INSERT INTO AttributeNames VALUES('Temperature');\n",
    "INSERT INTO AttributeNames VALUES('FuelPrice');\n",
    "INSERT INTO AttributeNames VALUES('CPI');\n",
    "INSERT INTO AttributeNames VALUES('UnemploymentRate');\n",
    "\n",
    "With TotalWeeklySalePerStorePerWeek(Store, WeekDate, TotalWeeklySalePerStorePerWeek) as\n",
    "    (SELECT Sales.Store, Sales.WeekDate, SUM(Sales.WeeklySales)\n",
    "     From Sales, TemporalData\n",
    "     WHERE Sales.Store = TemporalData.Store\n",
    "     AND Sales.WeekDate = TemporalData.WeekDate\n",
    "     GROUP BY TemporalData.Store, TemporalData.WeekDate\n",
    "    ),\n",
    "    AverageWeeklySaleOverStorePerWeek(AverageWeeklySaleOverStorePerWeek) as\n",
    "    (SELECT AVG(TotalWeeklySalePerStorePerWeek.TotalWeeklySalePerStorePerWeek)\n",
    "     FROM TotalWeeklySalePerStorePerWeek\n",
    "    ),\n",
    "    AverageTemperature(Average) as\n",
    "    (SELECT AVG(TemporalData.Temperature)\n",
    "     FROM TemporalData\n",
    "    ),\n",
    "    AverageFuelPrice(Average) as\n",
    "    (SELECT AVG(TemporalData.FuelPrice)\n",
    "     FROM TemporalData\n",
    "    ),\n",
    "    AverageCPI(Average) as\n",
    "    (SELECT AVG(TemporalData.CPI)\n",
    "     FROM TemporalData\n",
    "    ),\n",
    "    AverageUnemploymentRate(Average) as\n",
    "    (SELECT AVG(TemporalData.UnemploymentRate)\n",
    "     FROM TemporalData\n",
    "    ),\n",
    "    DeviationWeeklySale(Store, WeekDate, Deviation) as\n",
    "    (SELECT TotalWeeklySalePerStorePerWeek.Store,\n",
    "     TotalWeeklySalePerStorePerWeek.WeekDate,\n",
    "     TotalWeeklySalePerStorePerWeek.TotalWeeklySalePerStorePerWeek - AverageWeeklySaleOverStorePerWeek.AverageWeeklySaleOverStorePerWeek\n",
    "     FROM TotalWeeklySalePerStorePerWeek, AverageWeeklySaleOverStorePerWeek\n",
    "    ),\n",
    "    DeviationWeeklyTemperature(Store, WeekDate, Deviation) as\n",
    "    (SELECT TemporalData.Store, TemporalData.WeekDate, TemporalData.Temperature - AverageTemperature.Average\n",
    "     FROM TemporalData, AverageTemperature\n",
    "    ),\n",
    "    DeviationWeeklyFuelPrice(Store, WeekDate, Deviation) as\n",
    "    (SELECT TemporalData.Store, TemporalData.WeekDate, TemporalData.FuelPrice - AverageFuelPrice.Average\n",
    "     FROM TemporalData, AverageFuelPrice\n",
    "    ),\n",
    "    DeviationWeeklyCPI(Store, WeekDate, Deviation) as\n",
    "    (SELECT TemporalData.Store, TemporalData.WeekDate, TemporalData.CPI - AverageCPI.Average\n",
    "     FROM TemporalData, AverageCPI\n",
    "    ),\n",
    "    DeviationWeeklyUnemploymentRate(Store, WeekDate, Deviation) as\n",
    "    (SELECT TemporalData.Store, TemporalData.WeekDate, TemporalData.UnemploymentRate - AverageUnemploymentRate.Average\n",
    "     FROM TemporalData, AverageUnemploymentRate\n",
    "    )\n",
    "    \n",
    "    SELECT AttributeNames.AttributeName as AttributeName,\n",
    "     -1 + 2 * (SUM(DeviationWeeklySale.Deviation * DeviationWeeklyTemperature.Deviation) > 0) as CorrelationSign\n",
    "     FROM AttributeNames, DeviationWeeklySale, DeviationWeeklyTemperature\n",
    "     WHERE DeviationWeeklyTemperature.Store = DeviationWeeklySale.Store\n",
    "     AND DeviationWeeklyTemperature.WeekDate = DeviationWeeklySale.WeekDate\n",
    "     AND AttributeNames.AttributeName = 'Temperature'\n",
    "        \n",
    "     UNION\n",
    "    \n",
    "     SELECT AttributeNames.AttributeName as AttributeName,\n",
    "     -1 + 2 * (SUM(DeviationWeeklySale.Deviation * DeviationWeeklyFuelPrice.Deviation) > 0) as CorrelationSign\n",
    "     FROM AttributeNames, DeviationWeeklySale, DeviationWeeklyFuelPrice\n",
    "     WHERE DeviationWeeklyFuelPrice.Store = DeviationWeeklySale.Store\n",
    "     AND DeviationWeeklyFuelPrice.WeekDate = DeviationWeeklySale.WeekDate\n",
    "     AND AttributeNames.AttributeName = 'FuelPrice'\n",
    "    \n",
    "     UNION\n",
    "        \n",
    "     SELECT AttributeNames.AttributeName as AttributeName,\n",
    "     -1 + 2 * (SUM(DeviationWeeklySale.Deviation * DeviationWeeklyCPI.Deviation) > 0) as CorrelationSign\n",
    "     FROM AttributeNames, DeviationWeeklySale, DeviationWeeklyCPI\n",
    "     WHERE DeviationWeeklyCPI.Store = DeviationWeeklySale.Store\n",
    "     AND DeviationWeeklyCPI.WeekDate = DeviationWeeklySale.WeekDate\n",
    "     AND AttributeNames.AttributeName = 'CPI'\n",
    "        \n",
    "     UNION\n",
    "    \n",
    "     SELECT AttributeNames.AttributeName as AttributeName,\n",
    "     -1 + 2 * (SUM(DeviationWeeklySale.Deviation * DeviationWeeklyUnemploymentRate.Deviation) > 0) as CorrelationSign\n",
    "     FROM AttributeNames, DeviationWeeklySale, DeviationWeeklyUnemploymentRate\n",
    "     WHERE DeviationWeeklyUnemploymentRate.Store = DeviationWeeklySale.Store\n",
    "     AND DeviationWeeklyUnemploymentRate.WeekDate = DeviationWeeklySale.WeekDate\n",
    "     AND AttributeNames.AttributeName = 'UnemploymentRate';\n",
    "    "
   ]
  },
  {
   "cell_type": "code",
   "execution_count": 16,
   "metadata": {},
   "outputs": [
    {
     "name": "stdout",
     "output_type": "stream",
     "text": [
      " * sqlite:///PS1.db\n",
      "Done.\n",
      "Done.\n",
      "1 rows affected.\n",
      "1 rows affected.\n",
      "1 rows affected.\n",
      "1 rows affected.\n",
      "Done.\n"
     ]
    },
    {
     "data": {
      "text/html": [
       "<table>\n",
       "    <tr>\n",
       "        <th>AttributeName</th>\n",
       "        <th>CorrelationSign</th>\n",
       "    </tr>\n",
       "    <tr>\n",
       "        <td>CPI</td>\n",
       "        <td>-1</td>\n",
       "    </tr>\n",
       "    <tr>\n",
       "        <td>FuelPrice</td>\n",
       "        <td>1</td>\n",
       "    </tr>\n",
       "    <tr>\n",
       "        <td>Temperature</td>\n",
       "        <td>-1</td>\n",
       "    </tr>\n",
       "    <tr>\n",
       "        <td>UnemploymentRate</td>\n",
       "        <td>-1</td>\n",
       "    </tr>\n",
       "</table>"
      ],
      "text/plain": [
       "[('CPI', -1), ('FuelPrice', 1), ('Temperature', -1), ('UnemploymentRate', -1)]"
      ]
     },
     "execution_count": 16,
     "metadata": {},
     "output_type": "execute_result"
    }
   ],
   "source": [
    "%%sql\n",
    "\n",
    "DROP TABLE IF EXISTS AttributeNames;\n",
    "CREATE TABLE AttributeNames(\n",
    "    AttributeName CHAR(20) PRIMARY KEY \n",
    ");\n",
    "\n",
    "INSERT INTO AttributeNames VALUES('Temperature');\n",
    "INSERT INTO AttributeNames VALUES('FuelPrice');\n",
    "INSERT INTO AttributeNames VALUES('CPI');\n",
    "INSERT INTO AttributeNames VALUES('UnemploymentRate');\n",
    "\n",
    "With TotalWeeklySalePerStorePerWeek(Store, WeekDate, TotalWeeklySalePerStorePerWeek) as\n",
    "    (SELECT Sales.Store, Sales.WeekDate, AVG(Sales.WeeklySales)\n",
    "     From Sales, TemporalData\n",
    "     WHERE Sales.Store = TemporalData.Store\n",
    "     AND Sales.WeekDate = TemporalData.WeekDate\n",
    "     GROUP BY TemporalData.Store, TemporalData.WeekDate\n",
    "    ),\n",
    "    AverageWeeklySaleOverStorePerWeek(AverageWeeklySaleOverStorePerWeek) as\n",
    "    (SELECT AVG(TotalWeeklySalePerStorePerWeek.TotalWeeklySalePerStorePerWeek)\n",
    "     FROM TotalWeeklySalePerStorePerWeek\n",
    "    ),\n",
    "    AverageTemperature(Average) as\n",
    "    (SELECT AVG(TemporalData.Temperature)\n",
    "     FROM TemporalData \n",
    "    ),\n",
    "    AverageFuelPrice(Average) as\n",
    "    (SELECT AVG(TemporalData.FuelPrice)\n",
    "     FROM TemporalData\n",
    "    ),\n",
    "    AverageCPI(Average) as\n",
    "    (SELECT AVG(TemporalData.CPI)\n",
    "     FROM TemporalData\n",
    "    ),\n",
    "    AverageUnemploymentRate(Average) as\n",
    "    (SELECT AVG(TemporalData.UnemploymentRate)\n",
    "     FROM TemporalData\n",
    "    ),\n",
    "    DeviationWeeklySale(Store, WeekDate, Deviation) as\n",
    "    (SELECT TotalWeeklySalePerStorePerWeek.Store,\n",
    "     TotalWeeklySalePerStorePerWeek.WeekDate,\n",
    "     TotalWeeklySalePerStorePerWeek.TotalWeeklySalePerStorePerWeek - AverageWeeklySaleOverStorePerWeek.AverageWeeklySaleOverStorePerWeek\n",
    "     FROM TotalWeeklySalePerStorePerWeek, AverageWeeklySaleOverStorePerWeek\n",
    "    ),\n",
    "    DeviationWeeklyTemperature(Store, WeekDate, Deviation) as\n",
    "    (SELECT TemporalData.Store, TemporalData.WeekDate, TemporalData.Temperature - AverageTemperature.Average\n",
    "     FROM TemporalData, AverageTemperature\n",
    "    ),\n",
    "    DeviationWeeklyFuelPrice(Store, WeekDate, Deviation) as\n",
    "    (SELECT TemporalData.Store, TemporalData.WeekDate, TemporalData.FuelPrice - AverageFuelPrice.Average\n",
    "     FROM TemporalData, AverageFuelPrice\n",
    "    ),\n",
    "    DeviationWeeklyCPI(Store, WeekDate, Deviation) as\n",
    "    (SELECT TemporalData.Store, TemporalData.WeekDate, TemporalData.CPI - AverageCPI.Average\n",
    "     FROM TemporalData, AverageCPI\n",
    "    ),\n",
    "    DeviationWeeklyUnemploymentRate(Store, WeekDate, Deviation) as\n",
    "    (SELECT TemporalData.Store, TemporalData.WeekDate, TemporalData.UnemploymentRate - AverageUnemploymentRate.Average\n",
    "     FROM TemporalData, AverageUnemploymentRate\n",
    "    )\n",
    "    \n",
    "    SELECT AttributeNames.AttributeName as AttributeName,\n",
    "     -1 + 2 * (SUM(DeviationWeeklySale.Deviation * DeviationWeeklyTemperature.Deviation) > 0) as CorrelationSign\n",
    "     FROM AttributeNames, DeviationWeeklySale, DeviationWeeklyTemperature\n",
    "     WHERE DeviationWeeklyTemperature.Store = DeviationWeeklySale.Store\n",
    "     AND DeviationWeeklyTemperature.WeekDate = DeviationWeeklySale.WeekDate\n",
    "     AND AttributeNames.AttributeName = 'Temperature'\n",
    "        \n",
    "     UNION\n",
    "    \n",
    "     SELECT AttributeNames.AttributeName as AttributeName,\n",
    "     -1 + 2 * (SUM(DeviationWeeklySale.Deviation * DeviationWeeklyFuelPrice.Deviation) > 0) as CorrelationSign\n",
    "     FROM AttributeNames, DeviationWeeklySale, DeviationWeeklyFuelPrice\n",
    "     WHERE DeviationWeeklyFuelPrice.Store = DeviationWeeklySale.Store\n",
    "     AND DeviationWeeklyFuelPrice.WeekDate = DeviationWeeklySale.WeekDate\n",
    "     AND AttributeNames.AttributeName = 'FuelPrice'\n",
    "    \n",
    "     UNION\n",
    "        \n",
    "     SELECT AttributeNames.AttributeName as AttributeName,\n",
    "     -1 + 2 * (SUM(DeviationWeeklySale.Deviation * DeviationWeeklyCPI.Deviation) > 0) as CorrelationSign\n",
    "     FROM AttributeNames, DeviationWeeklySale, DeviationWeeklyCPI\n",
    "     WHERE DeviationWeeklyCPI.Store = DeviationWeeklySale.Store\n",
    "     AND DeviationWeeklyCPI.WeekDate = DeviationWeeklySale.WeekDate\n",
    "     AND AttributeNames.AttributeName = 'CPI'\n",
    "        \n",
    "     UNION\n",
    "    \n",
    "     SELECT AttributeNames.AttributeName as AttributeName,\n",
    "     -1 + 2 * (SUM(DeviationWeeklySale.Deviation * DeviationWeeklyUnemploymentRate.Deviation) > 0) as CorrelationSign\n",
    "     FROM AttributeNames, DeviationWeeklySale, DeviationWeeklyUnemploymentRate\n",
    "     WHERE DeviationWeeklyUnemploymentRate.Store = DeviationWeeklySale.Store\n",
    "     AND DeviationWeeklyUnemploymentRate.WeekDate = DeviationWeeklySale.WeekDate\n",
    "     AND AttributeNames.AttributeName = 'UnemploymentRate';\n",
    "    "
   ]
  },
  {
   "cell_type": "code",
   "execution_count": 13,
   "metadata": {},
   "outputs": [
    {
     "name": "stdout",
     "output_type": "stream",
     "text": [
      " * sqlite:///PS1.db\n",
      "Done.\n",
      "Done.\n",
      "1 rows affected.\n",
      "1 rows affected.\n",
      "1 rows affected.\n",
      "1 rows affected.\n",
      "Done.\n"
     ]
    },
    {
     "data": {
      "text/html": [
       "<table>\n",
       "    <tr>\n",
       "        <th>AttributeName</th>\n",
       "        <th>CorrelationSign</th>\n",
       "    </tr>\n",
       "    <tr>\n",
       "        <td>CPI</td>\n",
       "        <td>-1</td>\n",
       "    </tr>\n",
       "    <tr>\n",
       "        <td>FuelPrice</td>\n",
       "        <td>-1</td>\n",
       "    </tr>\n",
       "    <tr>\n",
       "        <td>Temperature</td>\n",
       "        <td>-1</td>\n",
       "    </tr>\n",
       "    <tr>\n",
       "        <td>UnemploymentRate</td>\n",
       "        <td>-1</td>\n",
       "    </tr>\n",
       "</table>"
      ],
      "text/plain": [
       "[('CPI', -1), ('FuelPrice', -1), ('Temperature', -1), ('UnemploymentRate', -1)]"
      ]
     },
     "execution_count": 13,
     "metadata": {},
     "output_type": "execute_result"
    }
   ],
   "source": [
    "%%sql\n",
    "\n",
    "DROP TABLE IF EXISTS AttributeNames;\n",
    "CREATE TABLE AttributeNames(\n",
    "    AttributeName CHAR(20) PRIMARY KEY \n",
    ");\n",
    "\n",
    "INSERT INTO AttributeNames VALUES('Temperature');\n",
    "INSERT INTO AttributeNames VALUES('FuelPrice');\n",
    "INSERT INTO AttributeNames VALUES('CPI');\n",
    "INSERT INTO AttributeNames VALUES('UnemploymentRate');\n",
    "\n",
    "With TotalWeeklySalePerStorePerWeek(Store, WeekDate, TotalWeeklySalePerStorePerWeek) as\n",
    "    (SELECT Sales.Store, Sales.WeekDate, AVG(Sales.WeeklySales)\n",
    "     From Sales, TemporalData\n",
    "     WHERE Sales.Store = TemporalData.Store\n",
    "     AND Sales.WeekDate = TemporalData.WeekDate\n",
    "     GROUP BY TemporalData.Store, TemporalData.WeekDate\n",
    "    ),\n",
    "    AverageWeeklySaleOverStorePerWeek(AverageWeeklySaleOverStorePerWeek) as\n",
    "    (SELECT AVG(TotalWeeklySalePerStorePerWeek.TotalWeeklySalePerStorePerWeek)\n",
    "     FROM TotalWeeklySalePerStorePerWeek\n",
    "    ),\n",
    "    AverageTemperature(Average) as\n",
    "    (SELECT AVG(TemporalData.Temperature)\n",
    "     FROM TemporalData, Sales\n",
    "     WHERE TemporalData.WeekDate = Sales.WeekDate AND TemporalData.Store = Sales.Store\n",
    "    ),\n",
    "    AverageFuelPrice(Average) as\n",
    "    (SELECT AVG(TemporalData.FuelPrice)\n",
    "     FROM TemporalData, Sales\n",
    "     WHERE TemporalData.WeekDate = Sales.WeekDate AND TemporalData.Store = Sales.Store\n",
    "    ),\n",
    "    AverageCPI(Average) as\n",
    "    (SELECT AVG(TemporalData.CPI)\n",
    "     FROM TemporalData, Sales\n",
    "     WHERE TemporalData.WeekDate = Sales.WeekDate AND TemporalData.Store = Sales.Store\n",
    "    ),\n",
    "    AverageUnemploymentRate(Average) as\n",
    "    (SELECT AVG(TemporalData.UnemploymentRate)\n",
    "     FROM TemporalData, Sales\n",
    "     WHERE TemporalData.WeekDate = Sales.WeekDate AND TemporalData.Store = Sales.Store\n",
    "    ),\n",
    "    DeviationWeeklySale(Store, WeekDate, Deviation) as\n",
    "    (SELECT Sales.Store,\n",
    "     Sales.WeekDate,\n",
    "     Sales.WeeklySales - AverageWeeklySaleOverStorePerWeek.AverageWeeklySaleOverStorePerWeek\n",
    "     FROM Sales, AverageWeeklySaleOverStorePerWeek\n",
    "    ),\n",
    "    DeviationWeeklyTemperature(Store, WeekDate, Deviation) as\n",
    "    (SELECT TemporalData.Store, TemporalData.WeekDate, TemporalData.Temperature - AverageTemperature.Average\n",
    "     FROM TemporalData, AverageTemperature\n",
    "    ),\n",
    "    DeviationWeeklyFuelPrice(Store, WeekDate, Deviation) as\n",
    "    (SELECT TemporalData.Store, TemporalData.WeekDate, TemporalData.FuelPrice - AverageFuelPrice.Average\n",
    "     FROM TemporalData, AverageFuelPrice\n",
    "    ),\n",
    "    DeviationWeeklyCPI(Store, WeekDate, Deviation) as\n",
    "    (SELECT TemporalData.Store, TemporalData.WeekDate, TemporalData.CPI - AverageCPI.Average\n",
    "     FROM TemporalData, AverageCPI\n",
    "    ),\n",
    "    DeviationWeeklyUnemploymentRate(Store, WeekDate, Deviation) as\n",
    "    (SELECT TemporalData.Store, TemporalData.WeekDate, TemporalData.UnemploymentRate - AverageUnemploymentRate.Average\n",
    "     FROM TemporalData, AverageUnemploymentRate\n",
    "    )\n",
    "    \n",
    "    SELECT AttributeNames.AttributeName as AttributeName,\n",
    "     -1 + 2 * (SUM(DeviationWeeklySale.Deviation * DeviationWeeklyTemperature.Deviation) > 0) as CorrelationSign\n",
    "     FROM AttributeNames, DeviationWeeklySale, DeviationWeeklyTemperature\n",
    "     WHERE DeviationWeeklyTemperature.Store = DeviationWeeklySale.Store\n",
    "     AND DeviationWeeklyTemperature.WeekDate = DeviationWeeklySale.WeekDate\n",
    "     AND AttributeNames.AttributeName = 'Temperature'\n",
    "        \n",
    "     UNION\n",
    "    \n",
    "     SELECT AttributeNames.AttributeName as AttributeName,\n",
    "     -1 + 2 * (SUM(DeviationWeeklySale.Deviation * DeviationWeeklyFuelPrice.Deviation) > 0) as CorrelationSign\n",
    "     FROM AttributeNames, DeviationWeeklySale, DeviationWeeklyFuelPrice\n",
    "     WHERE DeviationWeeklyFuelPrice.Store = DeviationWeeklySale.Store\n",
    "     AND DeviationWeeklyFuelPrice.WeekDate = DeviationWeeklySale.WeekDate\n",
    "     AND AttributeNames.AttributeName = 'FuelPrice'\n",
    "    \n",
    "     UNION\n",
    "        \n",
    "     SELECT AttributeNames.AttributeName as AttributeName,\n",
    "     -1 + 2 * (SUM(DeviationWeeklySale.Deviation * DeviationWeeklyCPI.Deviation) > 0) as CorrelationSign\n",
    "     FROM AttributeNames, DeviationWeeklySale, DeviationWeeklyCPI\n",
    "     WHERE DeviationWeeklyCPI.Store = DeviationWeeklySale.Store\n",
    "     AND DeviationWeeklyCPI.WeekDate = DeviationWeeklySale.WeekDate\n",
    "     AND AttributeNames.AttributeName = 'CPI'\n",
    "        \n",
    "     UNION\n",
    "    \n",
    "     SELECT AttributeNames.AttributeName as AttributeName,\n",
    "     -1 + 2 * (SUM(DeviationWeeklySale.Deviation * DeviationWeeklyUnemploymentRate.Deviation) > 0) as CorrelationSign\n",
    "     FROM AttributeNames, DeviationWeeklySale, DeviationWeeklyUnemploymentRate\n",
    "     WHERE DeviationWeeklyUnemploymentRate.Store = DeviationWeeklySale.Store\n",
    "     AND DeviationWeeklyUnemploymentRate.WeekDate = DeviationWeeklySale.WeekDate\n",
    "     AND AttributeNames.AttributeName = 'UnemploymentRate';"
   ]
  },
  {
   "cell_type": "code",
   "execution_count": 27,
   "metadata": {},
   "outputs": [
    {
     "name": "stdout",
     "output_type": "stream",
     "text": [
      "Done.\n"
     ]
    },
    {
     "data": {
      "text/html": [
       "<table>\n",
       "    <tr>\n",
       "        <th>AttributeName</th>\n",
       "        <th>CorrelationSign</th>\n",
       "    </tr>\n",
       "    <tr>\n",
       "        <td>Temperature</td>\n",
       "        <td>-1</td>\n",
       "    </tr>\n",
       "    <tr>\n",
       "        <td>FuelPrice</td>\n",
       "        <td>-1</td>\n",
       "    </tr>\n",
       "    <tr>\n",
       "        <td>CPI</td>\n",
       "        <td>-1</td>\n",
       "    </tr>\n",
       "    <tr>\n",
       "        <td>UnemploymentRate</td>\n",
       "        <td>-1</td>\n",
       "    </tr>\n",
       "</table>"
      ],
      "text/plain": [
       "[(u'Temperature', -1),\n",
       " (u'FuelPrice', -1),\n",
       " (u'CPI', -1),\n",
       " (u'UnemploymentRate', -1)]"
      ]
     },
     "execution_count": 27,
     "metadata": {},
     "output_type": "execute_result"
    }
   ],
   "source": [
    "\"\"\"\n",
    "Expected output below- don't re-evaluate this cell!\n",
    "\n",
    "NOTE: A valid answer must work for ALL inputs of the given type,\n",
    "not just this example.  I.e. do not hardcode around this answer / etc!\n",
    "\"\"\""
   ]
  },
  {
   "cell_type": "markdown",
   "metadata": {},
   "source": [
    "Problem 3: The Traveling SQL Server Salesman Problem [40 points]\n",
    "--------------------------------------------------\n",
    "\n",
    "SQL Server salespeople are lucky as far as traveling salespeople go- they only have to sell one or two big enterprise contracts, at one or two offices in Wisconsin, in order to make their monthly quota!\n",
    "\n",
    "Answer the following questions using the table of streets connecting company office buildings.\n",
    "\n",
    "**Note that for convenience all streets are included _twice_, as $A \\rightarrow B$ and $B \\rightarrow A$.  This should make some parts of the problem easier, but remember to take it into account!**"
   ]
  },
  {
   "cell_type": "code",
   "execution_count": 15,
   "metadata": {},
   "outputs": [
    {
     "name": "stdout",
     "output_type": "stream",
     "text": [
      "Done.\n"
     ]
    },
    {
     "data": {
      "text/html": [
       "<table>\n",
       "    <tr>\n",
       "        <th>id</th>\n",
       "        <th>direction</th>\n",
       "        <th>A</th>\n",
       "        <th>B</th>\n",
       "        <th>d</th>\n",
       "    </tr>\n",
       "    <tr>\n",
       "        <td>0</td>\n",
       "        <td>F</td>\n",
       "        <td>UW-Madison</td>\n",
       "        <td>DooHickey Collective</td>\n",
       "        <td>7</td>\n",
       "    </tr>\n",
       "    <tr>\n",
       "        <td>0</td>\n",
       "        <td>R</td>\n",
       "        <td>DooHickey Collective</td>\n",
       "        <td>UW-Madison</td>\n",
       "        <td>7</td>\n",
       "    </tr>\n",
       "    <tr>\n",
       "        <td>1</td>\n",
       "        <td>F</td>\n",
       "        <td>DooHickey Collective</td>\n",
       "        <td>Gizmo Corp</td>\n",
       "        <td>2</td>\n",
       "    </tr>\n",
       "    <tr>\n",
       "        <td>1</td>\n",
       "        <td>R</td>\n",
       "        <td>Gizmo Corp</td>\n",
       "        <td>DooHickey Collective</td>\n",
       "        <td>2</td>\n",
       "    </tr>\n",
       "</table>"
      ],
      "text/plain": [
       "[(0, u'F', u'UW-Madison', u'DooHickey Collective', 7),\n",
       " (0, u'R', u'DooHickey Collective', u'UW-Madison', 7),\n",
       " (1, u'F', u'DooHickey Collective', u'Gizmo Corp', 2),\n",
       " (1, u'R', u'Gizmo Corp', u'DooHickey Collective', 2)]"
      ]
     },
     "execution_count": 15,
     "metadata": {},
     "output_type": "execute_result"
    }
   ],
   "source": [
    "%sql SELECT * FROM streets LIMIT 4;"
   ]
  },
  {
   "cell_type": "markdown",
   "metadata": {},
   "source": [
    "### Part (a): One-hop, two-hop, three-hop... [10 points]\n",
    "\n",
    "Our salesperson has stopped at UW-Madison, to steal some cool new RDBMS technology from CS564-ers, and now wants to go sell it to a company _within 10 miles of UW-Madison and _passing through no more than 3 distinct streets_.  Write a single query, not using `WITH` (see later on), to find all such companies.\n",
    "\n",
    "Your query should return the schema `(company, distance)` where distance is cumulative from UW-Madison.\n",
    "\n",
    "Write your query here:"
   ]
  },
  {
   "cell_type": "code",
   "execution_count": 103,
   "metadata": {},
   "outputs": [
    {
     "name": "stdout",
     "output_type": "stream",
     "text": [
      " * sqlite:///PS1.db\n",
      "Done.\n"
     ]
    },
    {
     "data": {
      "text/html": [
       "<table>\n",
       "    <tr>\n",
       "        <th>company</th>\n",
       "        <th>distance</th>\n",
       "    </tr>\n",
       "    <tr>\n",
       "        <td>DooHickey Collective</td>\n",
       "        <td>7</td>\n",
       "    </tr>\n",
       "    <tr>\n",
       "        <td>DooHickey Corp</td>\n",
       "        <td>9</td>\n",
       "    </tr>\n",
       "    <tr>\n",
       "        <td>Gadget Collective</td>\n",
       "        <td>9</td>\n",
       "    </tr>\n",
       "    <tr>\n",
       "        <td>Gadget Corp</td>\n",
       "        <td>6</td>\n",
       "    </tr>\n",
       "    <tr>\n",
       "        <td>Gizmo Corp</td>\n",
       "        <td>9</td>\n",
       "    </tr>\n",
       "    <tr>\n",
       "        <td>Widget Industries</td>\n",
       "        <td>10</td>\n",
       "    </tr>\n",
       "</table>"
      ],
      "text/plain": [
       "[('DooHickey Collective', 7),\n",
       " ('DooHickey Corp', 9),\n",
       " ('Gadget Collective', 9),\n",
       " ('Gadget Corp', 6),\n",
       " ('Gizmo Corp', 9),\n",
       " ('Widget Industries', 10)]"
      ]
     },
     "execution_count": 103,
     "metadata": {},
     "output_type": "execute_result"
    }
   ],
   "source": [
    "%%sql\n",
    "SELECT s1.B as company, s1.d as distance\n",
    "FROM streets s1\n",
    "WHERE s1.A = 'UW-Madison'\n",
    "AND distance <= 10\n",
    "\n",
    "UNION\n",
    "\n",
    "SELECT s2.B as company, MIN(s1.d + s2.d) as distance\n",
    "FROM streets s1, streets s2\n",
    "WHERE s1.A = 'UW-Madison'\n",
    "AND s2.A = s1.B\n",
    "AND (NOT s1.A = s2.B)\n",
    "GROUP BY company\n",
    "HAVING distance <= 10\n",
    "\n",
    "UNION\n",
    "\n",
    "SELECT s3.B as company, MIN(s1.d + s2.d + s3.d) as distance\n",
    "FROM streets s1, streets s2, streets s3\n",
    "WHERE s1.A = 'UW-Madison'\n",
    "AND s2.A = s1.B\n",
    "AND s3.A = s2.B\n",
    "AND (NOT s2.B = s1.A)\n",
    "AND (NOT s3.B = s1.A)\n",
    "AND (NOT s3.B = s2.A)\n",
    "GROUP BY company\n",
    "HAVING distance <= 10;"
   ]
  },
  {
   "cell_type": "code",
   "execution_count": 16,
   "metadata": {},
   "outputs": [
    {
     "name": "stdout",
     "output_type": "stream",
     "text": [
      "Done.\n"
     ]
    },
    {
     "data": {
      "text/html": [
       "<table>\n",
       "    <tr>\n",
       "        <th>company</th>\n",
       "        <th>distance</th>\n",
       "    </tr>\n",
       "    <tr>\n",
       "        <td>DooHickey Collective</td>\n",
       "        <td>7</td>\n",
       "    </tr>\n",
       "    <tr>\n",
       "        <td>DooHickey Corp</td>\n",
       "        <td>9</td>\n",
       "    </tr>\n",
       "    <tr>\n",
       "        <td>Gadget Collective</td>\n",
       "        <td>9</td>\n",
       "    </tr>\n",
       "    <tr>\n",
       "        <td>Gadget Corp</td>\n",
       "        <td>6</td>\n",
       "    </tr>\n",
       "    <tr>\n",
       "        <td>Gizmo Corp</td>\n",
       "        <td>9</td>\n",
       "    </tr>\n",
       "    <tr>\n",
       "        <td>Widget Industries</td>\n",
       "        <td>10</td>\n",
       "    </tr>\n",
       "</table>"
      ],
      "text/plain": [
       "[(u'DooHickey Collective', 7),\n",
       " (u'DooHickey Corp', 9),\n",
       " (u'Gadget Collective', 9),\n",
       " (u'Gadget Corp', 6),\n",
       " (u'Gizmo Corp', 9),\n",
       " (u'Widget Industries', 10)]"
      ]
     },
     "execution_count": 16,
     "metadata": {},
     "output_type": "execute_result"
    }
   ],
   "source": [
    "\"\"\"\n",
    "Expected output below- don't re-evaluate this cell!\n",
    "\n",
    "NOTE: A valid answer must work for ALL inputs of the given type,\n",
    "not just this example.  I.e. do not hardcode around this answer / etc!\n",
    "\"\"\""
   ]
  },
  {
   "cell_type": "markdown",
   "metadata": {},
   "source": [
    "### Part (b): A stop at the Farm [10 points]\n",
    "\n",
    "Now, our salesperson is out in the field, and wants to see all routes- and their distances- which will take him/her from a company $A$ to a company $B$, with the following constraints:\n",
    "* The route must _pass through UW-Madison (in order to pick up new RDBMS tech to sell!)\n",
    "* $A$ and $B$ must _each individually_ be _within 3 hops of UW-Madison\n",
    "* $A$ and $B$ must be different companies\n",
    "* _The total distance must be $<= 15$_\n",
    "* Do not use `WITH`\n",
    "* If you return a path $A \\rightarrow B$, _also include $B \\rightarrow A$ in your answer_\n",
    "\n",
    "In order to make your answer a bit cleaner, you may split into two queries, one of which creates a `VIEW`.  A view is a virtual table based on the output set of a SQL query.  A view can be used just like a normal table- the only difference under the hood is that the DBMS re-evaluates the query used to generate it each time a view is queried by a user (thus the data is always up-to date!)\n",
    "\n",
    "Here's a simple example of a view:"
   ]
  },
  {
   "cell_type": "code",
   "execution_count": 69,
   "metadata": {},
   "outputs": [
    {
     "name": "stdout",
     "output_type": "stream",
     "text": [
      " * sqlite:///PS1.db\n",
      "Done.\n",
      "Done.\n",
      "Done.\n"
     ]
    },
    {
     "data": {
      "text/html": [
       "<table>\n",
       "    <tr>\n",
       "        <th>A</th>\n",
       "        <th>B</th>\n",
       "        <th>d</th>\n",
       "    </tr>\n",
       "    <tr>\n",
       "        <td>DooHickey Collective</td>\n",
       "        <td>Gizmo Corp</td>\n",
       "        <td>2</td>\n",
       "    </tr>\n",
       "    <tr>\n",
       "        <td>Gizmo Corp</td>\n",
       "        <td>DooHickey Collective</td>\n",
       "        <td>2</td>\n",
       "    </tr>\n",
       "    <tr>\n",
       "        <td>Gizmo Corp</td>\n",
       "        <td>Widget Industries</td>\n",
       "        <td>1</td>\n",
       "    </tr>\n",
       "</table>"
      ],
      "text/plain": [
       "[('DooHickey Collective', 'Gizmo Corp', 2),\n",
       " ('Gizmo Corp', 'DooHickey Collective', 2),\n",
       " ('Gizmo Corp', 'Widget Industries', 1)]"
      ]
     },
     "execution_count": 69,
     "metadata": {},
     "output_type": "execute_result"
    }
   ],
   "source": [
    "%%sql \n",
    "DROP VIEW IF EXISTS short_streets;\n",
    "CREATE VIEW short_streets AS \n",
    "SELECT A, B, d FROM streets WHERE d < 3;\n",
    "SELECT * FROM short_streets LIMIT 3;"
   ]
  },
  {
   "cell_type": "markdown",
   "metadata": {},
   "source": [
    "Write your query or queries here:"
   ]
  },
  {
   "cell_type": "code",
   "execution_count": 70,
   "metadata": {},
   "outputs": [
    {
     "name": "stdout",
     "output_type": "stream",
     "text": [
      " * sqlite:///PS1.db\n",
      "Done.\n",
      "Done.\n",
      "Done.\n"
     ]
    },
    {
     "data": {
      "text/html": [
       "<table>\n",
       "    <tr>\n",
       "        <th>company_1</th>\n",
       "        <th>company_2</th>\n",
       "        <th>distance</th>\n",
       "    </tr>\n",
       "    <tr>\n",
       "        <td>DooHickey Collective</td>\n",
       "        <td>Gadget Corp</td>\n",
       "        <td>13</td>\n",
       "    </tr>\n",
       "    <tr>\n",
       "        <td>DooHickey Corp</td>\n",
       "        <td>Gadget Corp</td>\n",
       "        <td>15</td>\n",
       "    </tr>\n",
       "    <tr>\n",
       "        <td>Gadget Collective</td>\n",
       "        <td>Gadget Corp</td>\n",
       "        <td>15</td>\n",
       "    </tr>\n",
       "    <tr>\n",
       "        <td>Gadget Corp</td>\n",
       "        <td>DooHickey Collective</td>\n",
       "        <td>13</td>\n",
       "    </tr>\n",
       "    <tr>\n",
       "        <td>Gadget Corp</td>\n",
       "        <td>DooHickey Corp</td>\n",
       "        <td>15</td>\n",
       "    </tr>\n",
       "    <tr>\n",
       "        <td>Gadget Corp</td>\n",
       "        <td>Gadget Collective</td>\n",
       "        <td>15</td>\n",
       "    </tr>\n",
       "    <tr>\n",
       "        <td>Gadget Corp</td>\n",
       "        <td>Gizmo Corp</td>\n",
       "        <td>15</td>\n",
       "    </tr>\n",
       "    <tr>\n",
       "        <td>Gizmo Corp</td>\n",
       "        <td>Gadget Corp</td>\n",
       "        <td>15</td>\n",
       "    </tr>\n",
       "</table>"
      ],
      "text/plain": [
       "[('DooHickey Collective', 'Gadget Corp', 13),\n",
       " ('DooHickey Corp', 'Gadget Corp', 15),\n",
       " ('Gadget Collective', 'Gadget Corp', 15),\n",
       " ('Gadget Corp', 'DooHickey Collective', 13),\n",
       " ('Gadget Corp', 'DooHickey Corp', 15),\n",
       " ('Gadget Corp', 'Gadget Collective', 15),\n",
       " ('Gadget Corp', 'Gizmo Corp', 15),\n",
       " ('Gizmo Corp', 'Gadget Corp', 15)]"
      ]
     },
     "execution_count": 70,
     "metadata": {},
     "output_type": "execute_result"
    }
   ],
   "source": [
    "%%sql\n",
    "\n",
    "DROP VIEW IF EXISTS nearby_list;\n",
    "\n",
    "CREATE VIEW nearby_list AS \n",
    "SELECT s1.B as company, s1.d as distance\n",
    "FROM streets s1\n",
    "WHERE s1.A = 'UW-Madison'\n",
    "AND distance <= 15\n",
    "\n",
    "UNION\n",
    "\n",
    "SELECT s2.B as company, MIN(s1.d + s2.d) as distance\n",
    "FROM streets s1, streets s2\n",
    "WHERE s1.A = 'UW-Madison'\n",
    "AND s2.A = s1.B\n",
    "AND (NOT s1.A = s2.B)\n",
    "GROUP BY company\n",
    "HAVING distance <= 15\n",
    "\n",
    "UNION\n",
    "\n",
    "SELECT s3.B as company, MIN(s1.d + s2.d + s3.d) as distance\n",
    "FROM streets s1, streets s2, streets s3\n",
    "WHERE s1.A = 'UW-Madison'\n",
    "AND s2.A = s1.B\n",
    "AND s3.A = s2.B\n",
    "AND (NOT s2.B = s1.A)\n",
    "AND (NOT s3.B = s1.A)\n",
    "AND (NOT s3.B = s2.A)\n",
    "GROUP BY company\n",
    "HAVING distance <= 15;\n",
    "\n",
    "SELECT s1.company as company_1, s2.company as company_2, MIN(s1.distance + s2.distance) as distance\n",
    "FROM nearby_list as s1, nearby_list as s2\n",
    "WHERE (NOT company_1 = company_2)\n",
    "GROUP BY company_1, company_2\n",
    "HAVING MIN(s1.distance + s2.distance) <= 15;"
   ]
  },
  {
   "cell_type": "code",
   "execution_count": 18,
   "metadata": {},
   "outputs": [
    {
     "name": "stdout",
     "output_type": "stream",
     "text": [
      "Done.\n",
      "Done.\n",
      "Done.\n"
     ]
    },
    {
     "data": {
      "text/html": [
       "<table>\n",
       "    <tr>\n",
       "        <th>company_1</th>\n",
       "        <th>company_2</th>\n",
       "        <th>distance</th>\n",
       "    </tr>\n",
       "    <tr>\n",
       "        <td>DooHickey Collective</td>\n",
       "        <td>Gadget Corp</td>\n",
       "        <td>13</td>\n",
       "    </tr>\n",
       "    <tr>\n",
       "        <td>DooHickey Corp</td>\n",
       "        <td>Gadget Corp</td>\n",
       "        <td>15</td>\n",
       "    </tr>\n",
       "    <tr>\n",
       "        <td>Gadget Collective</td>\n",
       "        <td>Gadget Corp</td>\n",
       "        <td>15</td>\n",
       "    </tr>\n",
       "    <tr>\n",
       "        <td>Gadget Corp</td>\n",
       "        <td>DooHickey Collective</td>\n",
       "        <td>13</td>\n",
       "    </tr>\n",
       "    <tr>\n",
       "        <td>Gadget Corp</td>\n",
       "        <td>DooHickey Corp</td>\n",
       "        <td>15</td>\n",
       "    </tr>\n",
       "    <tr>\n",
       "        <td>Gadget Corp</td>\n",
       "        <td>Gadget Collective</td>\n",
       "        <td>15</td>\n",
       "    </tr>\n",
       "    <tr>\n",
       "        <td>Gadget Corp</td>\n",
       "        <td>Gizmo Corp</td>\n",
       "        <td>15</td>\n",
       "    </tr>\n",
       "    <tr>\n",
       "        <td>Gizmo Corp</td>\n",
       "        <td>Gadget Corp</td>\n",
       "        <td>15</td>\n",
       "    </tr>\n",
       "</table>"
      ],
      "text/plain": [
       "[(u'DooHickey Collective', u'Gadget Corp', 13),\n",
       " (u'DooHickey Corp', u'Gadget Corp', 15),\n",
       " (u'Gadget Collective', u'Gadget Corp', 15),\n",
       " (u'Gadget Corp', u'DooHickey Collective', 13),\n",
       " (u'Gadget Corp', u'DooHickey Corp', 15),\n",
       " (u'Gadget Corp', u'Gadget Collective', 15),\n",
       " (u'Gadget Corp', u'Gizmo Corp', 15),\n",
       " (u'Gizmo Corp', u'Gadget Corp', 15)]"
      ]
     },
     "execution_count": 18,
     "metadata": {},
     "output_type": "execute_result"
    }
   ],
   "source": [
    "\"\"\"\n",
    "Expected output below- don't re-evaluate this cell!\n",
    "\n",
    "NOTE: A valid answer must work for ALL inputs of the given type,\n",
    "not just this example.  I.e. do not hardcode around this answer / etc!\n",
    "\"\"\""
   ]
  },
  {
   "cell_type": "markdown",
   "metadata": {},
   "source": [
    "### Part (c): Ensuring acyclicity [10 points]\n",
    "\n",
    "You may have noticed at this point that the network, or **_graph_**, of streets in our `streets` table seems like it might be a **tree**.\n",
    "\n",
    "Recall that a **_tree_** is an undirected graph where each node has exactly one parent (or, is the root, and has none), but may have multiple children.  A slightly more formal definition of a tree is as follows: \n",
    "\n",
    "> An undirected graph $T$ is a **_tree_** if it is **connected**- meaning that there is a path between every pair of nodes- and has no **cycles** (informally, closed loops)\n",
    "\n",
    "Suppose that we guarantee the following about the graph of companies & streets determined by the `streets` table:\n",
    "* It is _connected_\n",
    "* It has no cycles of length $> 3$\n",
    "\n",
    "Write a _single SQL query_ which, if our graph is not a tree (i.e. if this isn't a [shaggy dog problem](https://en.wikipedia.org/wiki/Shaggy_dog_story)), **turns it into a tree** by deleting exactly _one_ street (*= two entries in our table!*).  Write your query here:"
   ]
  },
  {
   "cell_type": "code",
   "execution_count": 75,
   "metadata": {},
   "outputs": [
    {
     "name": "stdout",
     "output_type": "stream",
     "text": [
      " * sqlite:///PS1.db\n",
      "2 rows affected.\n"
     ]
    },
    {
     "data": {
      "text/plain": [
       "[]"
      ]
     },
     "execution_count": 75,
     "metadata": {},
     "output_type": "execute_result"
    }
   ],
   "source": [
    "%%sql\n",
    "DELETE FROM streets\n",
    "WHERE streets.id in(\n",
    "SELECT s1.id \n",
    "FROM streets s1, streets s2, streets s3\n",
    "WHERE s2.A = s1.B\n",
    "AND s3.A = s2.B\n",
    "AND s3.B = s1.A\n",
    "AND (NOT s2.B = s1.A)\n",
    "AND (NOT s3.B = s2.A)\n",
    "LIMIT 1\n",
    ");"
   ]
  },
  {
   "cell_type": "code",
   "execution_count": 19,
   "metadata": {},
   "outputs": [
    {
     "name": "stdout",
     "output_type": "stream",
     "text": [
      "2 rows affected.\n"
     ]
    },
    {
     "data": {
      "text/plain": [
       "[]"
      ]
     },
     "execution_count": 19,
     "metadata": {},
     "output_type": "execute_result"
    }
   ],
   "source": [
    "\"\"\"\n",
    "Expected output below- don't re-evaluate this cell!\n",
    "\n",
    "NOTE: A valid answer must work for ALL inputs of the given type,\n",
    "not just this example.  I.e. do not hardcode around this answer / etc!\n",
    "\"\"\""
   ]
  },
  {
   "cell_type": "markdown",
   "metadata": {},
   "source": [
    "### Part (d): The longest path [10 points]\n",
    "\n",
    "In this part, we want to find the distance of the _longest path between any two companies_.\n",
    "\n",
    "Note that you should probably have done Part (c) first so that the graph of streets is a _tree_- this will make it much easier to work with!\n",
    "\n",
    "If you've done the other parts above, you might be skeptical that SQL can find paths of arbitrary lengths (which is what we need to do for this problem); how can we do this?\n",
    "\n",
    "There are some non-standard SQL functions- i.e. not universally supported by all SQL DBMSs- which are often incredibly useful.  One of these is the `WITH RECURSIVE` clause, supported by SQLite.\n",
    "\n",
    "A `WITH` clause lets you define what is essentially a view within a clause, mainly to clean up your SQL code.  A trivial example, to illustrate `WITH`:"
   ]
  },
  {
   "cell_type": "code",
   "execution_count": 20,
   "metadata": {},
   "outputs": [
    {
     "name": "stdout",
     "output_type": "stream",
     "text": [
      "Done.\n"
     ]
    },
    {
     "data": {
      "text/html": [
       "<table>\n",
       "    <tr>\n",
       "        <th>name</th>\n",
       "    </tr>\n",
       "    <tr>\n",
       "        <td>Gizmo Corp</td>\n",
       "    </tr>\n",
       "    <tr>\n",
       "        <td>GizmoWorks</td>\n",
       "    </tr>\n",
       "    <tr>\n",
       "        <td>Gizmo Industries</td>\n",
       "    </tr>\n",
       "    <tr>\n",
       "        <td>Gizmo Collective</td>\n",
       "    </tr>\n",
       "    <tr>\n",
       "        <td>GizmoCo</td>\n",
       "    </tr>\n",
       "</table>"
      ],
      "text/plain": [
       "[(u'Gizmo Corp',),\n",
       " (u'GizmoWorks',),\n",
       " (u'Gizmo Industries',),\n",
       " (u'Gizmo Collective',),\n",
       " (u'GizmoCo',)]"
      ]
     },
     "execution_count": 20,
     "metadata": {},
     "output_type": "execute_result"
    }
   ],
   "source": [
    "%%sql\n",
    "WITH companies(name) AS (\n",
    "    SELECT DISTINCT A FROM streets)\n",
    "SELECT * \n",
    "FROM companies \n",
    "WHERE name LIKE '%Gizmo%';"
   ]
  },
  {
   "cell_type": "markdown",
   "metadata": {},
   "source": [
    "There is also a recursive variant, `WITH RECURSIVE`.  `WITH RECURSIVE` allows you to define a view just as above, except the table can be defined recursively.  A `WITH RECURSIVE` clause must be of the following form:\n",
    "\n",
    "```\n",
    "WITH RECURSIVE \n",
    "    R(...) AS (\n",
    "        SELECT ... \n",
    "        UNION [ALL] \n",
    "        SELECT ... FROM R, ...\n",
    "    )\n",
    "...\n",
    "```\n",
    "\n",
    "`R` is the _recursive table_.  The `AS` clause contains two `SELECT` statements, conjoined by a `UNION` or `UNION ALL`; the first `SELECT` statement provides the initial / base case values, and the second or _recursive_ `SELECT` statement must include the recursive table in its `FROM` clause.\n",
    "\n",
    "Basically, the recursive `SELECT` statement continues executing on the tuple _most recently inserted into `R`_, inserting output rows back into `R`, and proceeding recursively in this way, until it no longer outputs any rows, and then stops.  See the [SQLite documentation](https://www.sqlite.org/lang_with.html) for more detail.\n",
    "\n",
    "The following example computes $5! = 5*4*3*2*1$ using `WITH RECURSIVE`:"
   ]
  },
  {
   "cell_type": "code",
   "execution_count": 21,
   "metadata": {},
   "outputs": [
    {
     "name": "stdout",
     "output_type": "stream",
     "text": [
      "Done.\n"
     ]
    },
    {
     "data": {
      "text/html": [
       "<table>\n",
       "    <tr>\n",
       "        <th>x</th>\n",
       "    </tr>\n",
       "    <tr>\n",
       "        <td>120</td>\n",
       "    </tr>\n",
       "</table>"
      ],
      "text/plain": [
       "[(120,)]"
      ]
     },
     "execution_count": 21,
     "metadata": {},
     "output_type": "execute_result"
    }
   ],
   "source": [
    "%%sql\n",
    "WITH RECURSIVE\n",
    "    factorials(n,x) AS (\n",
    "        SELECT 1, 1\n",
    "        UNION\n",
    "        SELECT n+1, (n+1)*x FROM factorials WHERE n < 5)\n",
    "SELECT x FROM factorials WHERE n = 5;"
   ]
  },
  {
   "cell_type": "markdown",
   "metadata": {},
   "source": [
    "In this example:\n",
    "\n",
    "1. First, `(1,1)` is inserted into the table `factorials` (the base case).\n",
    "2. Next, this tuple is returned by the recursive select, as `(n, x)`, and we insert the result back into `factorials`: `(1+1, (1+1)*1) = (2,2)`\n",
    "3. Next, we do the same with the last tuple inserted into `factorials`- `(2,2)`- and insert `(2+1, (2+1)*2) = (3,6)`\n",
    "4. And again: get `(3,6)` from `factorials` and insert `(3+1, (3+1)*6) = (4,24)` back in\n",
    "5. And again: `(4,24)` -> `(4+1, (4+1)*24) = (5,120)`\n",
    "6. Now the last tuple inserted into `factorials` is `(5, 120)`, which fails the `WHERE n < 5` clause, and thus our recursive select returns an empty set, and our `WITH RECURSIVE` statement concludes\n",
    "7. Finally, now that our `WITH RECURSIVE` clause has concluded, we move on to the `SELECT x FROM factorials WHERE n=5` clause, which gets us our answer!"
   ]
  },
  {
   "cell_type": "markdown",
   "metadata": {},
   "source": [
    "#### Now, your turn!\n",
    "\n",
    "Write a single SQL query that uses `WITH RECURSIVE` to find the furthest (by distance) pair of companies that still have a path of streets connecting them.  Your query should return `(A, B, distance)`.\n",
    "\n",
    "Write your query here:"
   ]
  },
  {
   "cell_type": "code",
   "execution_count": 21,
   "metadata": {},
   "outputs": [
    {
     "name": "stdout",
     "output_type": "stream",
     "text": [
      " * sqlite:///PS1.db\n",
      "Done.\n"
     ]
    },
    {
     "data": {
      "text/html": [
       "<table>\n",
       "    <tr>\n",
       "        <th>A</th>\n",
       "        <th>B</th>\n",
       "        <th>distance</th>\n",
       "    </tr>\n",
       "    <tr>\n",
       "        <td>GadgetWorks</td>\n",
       "        <td>ThingWorks</td>\n",
       "        <td>63</td>\n",
       "    </tr>\n",
       "</table>"
      ],
      "text/plain": [
       "[('GadgetWorks', 'ThingWorks', 63)]"
      ]
     },
     "execution_count": 21,
     "metadata": {},
     "output_type": "execute_result"
    }
   ],
   "source": [
    "%%sql\n",
    "WITH RECURSIVE\n",
    "    FindPath(A, M, B, d) AS(\n",
    "    SELECT streets.A as A, streets.A as M, streets.B as B, streets.d as d\n",
    "    FROM streets\n",
    "        \n",
    "    UNION\n",
    "        \n",
    "    SELECT s1.A, s2.A, s2.B, s1.d + s2.d \n",
    "    FROM FindPath s1, streets s2\n",
    "    WHERE s2.A = s1.B\n",
    "    AND (NOT s2.B = s1.M)\n",
    "    )\n",
    "SELECT FindPath.A as A, FindPath.B as B, FindPath.d as distance\n",
    "FROM FindPath\n",
    "WHERE FindPath.d IN\n",
    "(SELECT MAX(FindPath.d)\n",
    "FROM FindPath)\n",
    "LIMIT 1;"
   ]
  },
  {
   "cell_type": "code",
   "execution_count": 22,
   "metadata": {},
   "outputs": [
    {
     "name": "stdout",
     "output_type": "stream",
     "text": [
      "Done.\n"
     ]
    },
    {
     "data": {
      "text/html": [
       "<table>\n",
       "    <tr>\n",
       "        <th>A</th>\n",
       "        <th>B</th>\n",
       "        <th>distance</th>\n",
       "    </tr>\n",
       "    <tr>\n",
       "        <td>GadgetWorks</td>\n",
       "        <td>ThingWorks</td>\n",
       "        <td>63</td>\n",
       "    </tr>\n",
       "</table>"
      ],
      "text/plain": [
       "[(u'GadgetWorks', u'ThingWorks', 63)]"
      ]
     },
     "execution_count": 22,
     "metadata": {},
     "output_type": "execute_result"
    }
   ],
   "source": [
    "\"\"\"\n",
    "Expected output below- don't re-evaluate this cell!\n",
    "\n",
    "NOTE: A valid answer must work for ALL inputs of the given type,\n",
    "not just this example.  I.e. do not hardcode around this answer / etc!\n",
    "\"\"\""
   ]
  },
  {
   "cell_type": "markdown",
   "metadata": {},
   "source": [
    "### Note on alternate output\n",
    "\n",
    "**NOTE:** The **_distance_** of the longest path could be **49 _OR_ 63** depending on which street you deleted in Part (c)!"
   ]
  }
 ],
 "metadata": {
  "kernelspec": {
   "display_name": "Python 3",
   "language": "python",
   "name": "python3"
  },
  "language_info": {
   "codemirror_mode": {
    "name": "ipython",
    "version": 3
   },
   "file_extension": ".py",
   "mimetype": "text/x-python",
   "name": "python",
   "nbconvert_exporter": "python",
   "pygments_lexer": "ipython3",
   "version": "3.7.2"
  }
 },
 "nbformat": 4,
 "nbformat_minor": 2
}
