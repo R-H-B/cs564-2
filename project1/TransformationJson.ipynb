{
 "cells": [
  {
   "cell_type": "code",
   "execution_count": 2,
   "metadata": {},
   "outputs": [
    {
     "ename": "KeyError",
     "evalue": "'Items'",
     "output_type": "error",
     "traceback": [
      "\u001b[0;31m---------------------------------------------------------------------------\u001b[0m",
      "\u001b[0;31mKeyError\u001b[0m                                  Traceback (most recent call last)",
      "\u001b[0;32m<ipython-input-2-803b34b178cc>\u001b[0m in \u001b[0;36m<module>\u001b[0;34m\u001b[0m\n\u001b[1;32m     99\u001b[0m \u001b[0;34m\u001b[0m\u001b[0m\n\u001b[1;32m    100\u001b[0m \u001b[0;32mif\u001b[0m \u001b[0m__name__\u001b[0m \u001b[0;34m==\u001b[0m \u001b[0;34m'__main__'\u001b[0m\u001b[0;34m:\u001b[0m\u001b[0;34m\u001b[0m\u001b[0;34m\u001b[0m\u001b[0m\n\u001b[0;32m--> 101\u001b[0;31m     \u001b[0mmain\u001b[0m\u001b[0;34m(\u001b[0m\u001b[0msys\u001b[0m\u001b[0;34m.\u001b[0m\u001b[0margv\u001b[0m\u001b[0;34m)\u001b[0m\u001b[0;34m\u001b[0m\u001b[0;34m\u001b[0m\u001b[0m\n\u001b[0m",
      "\u001b[0;32m<ipython-input-2-803b34b178cc>\u001b[0m in \u001b[0;36mmain\u001b[0;34m(argv)\u001b[0m\n\u001b[1;32m     95\u001b[0m     \u001b[0;32mfor\u001b[0m \u001b[0mf\u001b[0m \u001b[0;32min\u001b[0m \u001b[0margv\u001b[0m\u001b[0;34m[\u001b[0m\u001b[0;36m1\u001b[0m\u001b[0;34m:\u001b[0m\u001b[0;34m]\u001b[0m\u001b[0;34m:\u001b[0m\u001b[0;34m\u001b[0m\u001b[0;34m\u001b[0m\u001b[0m\n\u001b[1;32m     96\u001b[0m         \u001b[0;32mif\u001b[0m \u001b[0misJson\u001b[0m\u001b[0;34m(\u001b[0m\u001b[0mf\u001b[0m\u001b[0;34m)\u001b[0m\u001b[0;34m:\u001b[0m\u001b[0;34m\u001b[0m\u001b[0;34m\u001b[0m\u001b[0m\n\u001b[0;32m---> 97\u001b[0;31m             \u001b[0mparseJson\u001b[0m\u001b[0;34m(\u001b[0m\u001b[0mf\u001b[0m\u001b[0;34m)\u001b[0m\u001b[0;34m\u001b[0m\u001b[0;34m\u001b[0m\u001b[0m\n\u001b[0m\u001b[1;32m     98\u001b[0m             \u001b[0mprint\u001b[0m\u001b[0;34m(\u001b[0m\u001b[0;34m\"Success parsing \"\u001b[0m \u001b[0;34m+\u001b[0m \u001b[0mf\u001b[0m\u001b[0;34m)\u001b[0m\u001b[0;34m\u001b[0m\u001b[0;34m\u001b[0m\u001b[0m\n\u001b[1;32m     99\u001b[0m \u001b[0;34m\u001b[0m\u001b[0m\n",
      "\u001b[0;32m<ipython-input-2-803b34b178cc>\u001b[0m in \u001b[0;36mparseJson\u001b[0;34m(json_file)\u001b[0m\n\u001b[1;32m     75\u001b[0m \u001b[0;32mdef\u001b[0m \u001b[0mparseJson\u001b[0m\u001b[0;34m(\u001b[0m\u001b[0mjson_file\u001b[0m\u001b[0;34m)\u001b[0m\u001b[0;34m:\u001b[0m\u001b[0;34m\u001b[0m\u001b[0;34m\u001b[0m\u001b[0m\n\u001b[1;32m     76\u001b[0m     \u001b[0;32mwith\u001b[0m \u001b[0mopen\u001b[0m\u001b[0;34m(\u001b[0m\u001b[0mjson_file\u001b[0m\u001b[0;34m,\u001b[0m \u001b[0;34m'r'\u001b[0m\u001b[0;34m)\u001b[0m \u001b[0;32mas\u001b[0m \u001b[0mf\u001b[0m\u001b[0;34m:\u001b[0m\u001b[0;34m\u001b[0m\u001b[0;34m\u001b[0m\u001b[0m\n\u001b[0;32m---> 77\u001b[0;31m         \u001b[0mitems\u001b[0m \u001b[0;34m=\u001b[0m \u001b[0mloads\u001b[0m\u001b[0;34m(\u001b[0m\u001b[0mf\u001b[0m\u001b[0;34m.\u001b[0m\u001b[0mread\u001b[0m\u001b[0;34m(\u001b[0m\u001b[0;34m)\u001b[0m\u001b[0;34m)\u001b[0m\u001b[0;34m[\u001b[0m\u001b[0;34m'Items'\u001b[0m\u001b[0;34m]\u001b[0m \u001b[0;31m# creates a Python dictionary of Items for the supplied json file\u001b[0m\u001b[0;34m\u001b[0m\u001b[0;34m\u001b[0m\u001b[0m\n\u001b[0m\u001b[1;32m     78\u001b[0m         \u001b[0;32mfor\u001b[0m \u001b[0mitem\u001b[0m \u001b[0;32min\u001b[0m \u001b[0mitems\u001b[0m\u001b[0;34m:\u001b[0m\u001b[0;34m\u001b[0m\u001b[0;34m\u001b[0m\u001b[0m\n\u001b[1;32m     79\u001b[0m             \"\"\"\n",
      "\u001b[0;31mKeyError\u001b[0m: 'Items'"
     ]
    }
   ],
   "source": [
    "\n",
    "\"\"\"\n",
    "FILE: skeleton_parser.py\n",
    "------------------\n",
    "Author: Firas Abuzaid (fabuzaid@stanford.edu)\n",
    "Author: Perth Charernwattanagul (puch@stanford.edu)\n",
    "Modified: 04/21/2014\n",
    "\n",
    "Skeleton parser for CS564 programming project 1. Has useful imports and\n",
    "functions for parsing, including:\n",
    "\n",
    "1) Directory handling -- the parser takes a list of eBay json files\n",
    "and opens each file inside of a loop. You just need to fill in the rest.\n",
    "2) Dollar value conversions -- the json files store dollar value amounts in\n",
    "a string like $3,453.23 -- we provide a function to convert it to a string\n",
    "like XXXXX.xx.\n",
    "3) Date/time conversions -- the json files store dates/ times in the form\n",
    "Mon-DD-YY HH:MM:SS -- we wrote a function (transformDttm) that converts to the\n",
    "for YYYY-MM-DD HH:MM:SS, which will sort chronologically in SQL.\n",
    "\n",
    "Your job is to implement the parseJson function, which is invoked on each file by\n",
    "the main function. We create the initial Python dictionary object of items for\n",
    "you; the rest is up to you!\n",
    "Happy parsing!\n",
    "\"\"\"\n",
    "\n",
    "import sys\n",
    "from json import loads\n",
    "from re import sub\n",
    "\n",
    "columnSeparator = \"|\"\n",
    "\n",
    "# Dictionary of months used for date transformation\n",
    "MONTHS = {'Jan':'01','Feb':'02','Mar':'03','Apr':'04','May':'05','Jun':'06',\\\n",
    "        'Jul':'07','Aug':'08','Sep':'09','Oct':'10','Nov':'11','Dec':'12'}\n",
    "\n",
    "\"\"\"\n",
    "Returns true if a file ends in .json\n",
    "\"\"\"\n",
    "def isJson(f):\n",
    "    return len(f) > 5 and f[-5:] == '.json'\n",
    "\n",
    "\"\"\"\n",
    "Converts month to a number, e.g. 'Dec' to '12'\n",
    "\"\"\"\n",
    "def transformMonth(mon):\n",
    "    if mon in MONTHS:\n",
    "        return MONTHS[mon]\n",
    "    else:\n",
    "        return mon\n",
    "\n",
    "\"\"\"\n",
    "Transforms a timestamp from Mon-DD-YY HH:MM:SS to YYYY-MM-DD HH:MM:SS\n",
    "\"\"\"\n",
    "def transformDttm(dttm):\n",
    "    dttm = dttm.strip().split(' ')\n",
    "    dt = dttm[0].split('-')\n",
    "    date = '20' + dt[2] + '-'\n",
    "    date += transformMonth(dt[0]) + '-' + dt[1]\n",
    "    return date + ' ' + dttm[1]\n",
    "\n",
    "\"\"\"\n",
    "Transform a dollar value amount from a string like $3,453.23 to XXXXX.xx\n",
    "\"\"\"\n",
    "\n",
    "def transformDollar(money):\n",
    "    if money == None or len(money) == 0:\n",
    "        return money\n",
    "    return sub(r'[^\\d.]', '', money)\n",
    "\n",
    "\"\"\"\n",
    "Parses a single json file. Currently, there's a loop that iterates over each\n",
    "item in the data set. Your job is to extend this functionality to create all\n",
    "of the necessary SQL tables for your database.\n",
    "\"\"\"\n",
    "def parseJson(json_file):\n",
    "    with open(json_file, 'r') as f:\n",
    "        items = loads(f.read())['Items'] # creates a Python dictionary of Items for the supplied json file\n",
    "        f1 = open(\"EbayUser.dat\", \"w\")\n",
    "        f2 = open(\"Bids.dat\", \"w\")\n",
    "        f3 = open(\"Categories.dat\", \"w\")\n",
    "        f4 = open(\"Items.dat\", \"w\")\n",
    "        for item in items:\n",
    "            \"\"\"\n",
    "            TODO: traverse the items dictionary to extract information from the\n",
    "            given `json_file' and generate the necessary .dat files to generate\n",
    "            the SQL tables based on your relation design\n",
    "            \"\"\"\n",
    "            \n",
    "            pass\n",
    "\n",
    "\"\"\"\n",
    "Loops through each json files provided on the command line and passes each file\n",
    "to the parser\n",
    "\"\"\"\n",
    "def main(argv):\n",
    "    if len(argv) < 2:\n",
    "        print >> sys.stderr, 'Usage: python skeleton_json_parser.py <path to json files>'\n",
    "        sys.exit(1)\n",
    "    # loops over all .json files in the argument\n",
    "    for f in argv[1:]:\n",
    "        if isJson(f):\n",
    "            parseJson(f)\n",
    "            print(\"Success parsing \" + f)\n",
    "\n",
    "if __name__ == '__main__':\n",
    "    main(sys.argv)\n"
   ]
  },
  {
   "cell_type": "code",
   "execution_count": 19,
   "metadata": {},
   "outputs": [
    {
     "name": "stdout",
     "output_type": "stream",
     "text": [
      "/bin/sh: line 0: fg: no job control\r\n"
     ]
    }
   ],
   "source": [
    "!%%python TransformationJson.py ebay_data/items-0.json"
   ]
  },
  {
   "cell_type": "code",
   "execution_count": 24,
   "metadata": {},
   "outputs": [
    {
     "ename": "AttributeError",
     "evalue": "'dict' object has no attribute 'has_keys'",
     "output_type": "error",
     "traceback": [
      "\u001b[0;31m---------------------------------------------------------------------------\u001b[0m",
      "\u001b[0;31mAttributeError\u001b[0m                            Traceback (most recent call last)",
      "\u001b[0;32m<ipython-input-24-c5d1db740f63>\u001b[0m in \u001b[0;36m<module>\u001b[0;34m\u001b[0m\n\u001b[1;32m      1\u001b[0m \u001b[0mA\u001b[0m \u001b[0;34m=\u001b[0m \u001b[0;34m{\u001b[0m\u001b[0;34m'a'\u001b[0m\u001b[0;34m:\u001b[0m\u001b[0;36m1\u001b[0m\u001b[0;34m,\u001b[0m\u001b[0;34m'b'\u001b[0m\u001b[0;34m:\u001b[0m\u001b[0;36m2\u001b[0m\u001b[0;34m}\u001b[0m\u001b[0;34m\u001b[0m\u001b[0;34m\u001b[0m\u001b[0m\n\u001b[0;32m----> 2\u001b[0;31m \u001b[0mprint\u001b[0m\u001b[0;34m(\u001b[0m\u001b[0mA\u001b[0m\u001b[0;34m.\u001b[0m\u001b[0mhas_keys\u001b[0m\u001b[0;34m(\u001b[0m\u001b[0;34m'a'\u001b[0m\u001b[0;34m)\u001b[0m\u001b[0;34m)\u001b[0m\u001b[0;34m\u001b[0m\u001b[0;34m\u001b[0m\u001b[0m\n\u001b[0m",
      "\u001b[0;31mAttributeError\u001b[0m: 'dict' object has no attribute 'has_keys'"
     ]
    }
   ],
   "source": [
    "A = {'a':1,'b':2}\n",
    "print(A.has_keys('a'))"
   ]
  },
  {
   "cell_type": "code",
   "execution_count": 1,
   "metadata": {},
   "outputs": [
    {
     "data": {
      "text/plain": [
       "'Connected: @EbayData.db'"
      ]
     },
     "execution_count": 1,
     "metadata": {},
     "output_type": "execute_result"
    }
   ],
   "source": [
    "%load_ext sql\n",
    "%sql sqlite:///EbayData.db"
   ]
  },
  {
   "cell_type": "code",
   "execution_count": 29,
   "metadata": {
    "scrolled": true
   },
   "outputs": [
    {
     "name": "stdout",
     "output_type": "stream",
     "text": [
      " * sqlite://\n",
      "Done.\n",
      "Done.\n",
      "Done.\n",
      "Done.\n",
      "Done.\n",
      "Done.\n",
      "Done.\n",
      "Done.\n"
     ]
    },
    {
     "data": {
      "text/plain": [
       "[]"
      ]
     },
     "execution_count": 29,
     "metadata": {},
     "output_type": "execute_result"
    }
   ],
   "source": [
    "%%sql\n",
    "drop table if exists Items;\n",
    "drop table if exists EbayUsers;\n",
    "drop table if exists Bids;\n",
    "drop table if exists Categories;\n",
    "create table EbayUsers(UserID CHAR(300) PRIMARY KEY,\n",
    "                      Rating INTEGER NOT NULL,\n",
    "                      Location CHAR(300),\n",
    "                      Country CHAR(300));\n",
    "create table Items(ItemID INTEGER NOT NULL PRIMARY KEY,\n",
    "                   SellerID CHAR(300) NOT NULL,\n",
    "                   Name CHAR(300) NOT NULL,\n",
    "                   Buy_Price DECIMAL,\n",
    "                   First_Bid DECIMAL NOT NULL,\n",
    "                   Currently DECIMAL NOT NULL,\n",
    "                   Number_of_Bids INTEGER NOT NULL,\n",
    "                   Started TIMESTAMP NOT NULL,\n",
    "                   Ends TIMESTAMP NOT NULL,\n",
    "                   Description TEXT NOT NULL,\n",
    "                   FOREIGN KEY (SellerID) REFERENCES EbayUsers(UserID)\n",
    "                   );\n",
    "create table Bids(ItemID INTEGER NOT NULL,\n",
    "                  UserID CHAR(300) NOT NULL,\n",
    "                  Time TIMESTAMP NOT NULL,\n",
    "                  Amount DECIMAL NOT NULL,\n",
    "                  FOREIGN KEY (ItemID) REFERENCES Items(ItemID),\n",
    "                  FOREIGN KEY (UserID) REFERENCES EbayUsers(UserID),\n",
    "                  PRIMARY KEY(ItemID, UserID, Amount)\n",
    "                 );\n",
    "create table Categories(ItemID INTEGER NOT NULL,\n",
    "                 Category_Name CHAR(300) NOT NULL,\n",
    "                 FOREIGN KEY (ItemID) REFERENCES Items(ItemID),\n",
    "                 PRIMARY KEY(ItemID, Category_Name)\n",
    "                 );"
   ]
  },
  {
   "cell_type": "markdown",
   "metadata": {},
   "source": [
    "Question 1:"
   ]
  },
  {
   "cell_type": "code",
   "execution_count": 25,
   "metadata": {},
   "outputs": [
    {
     "name": "stdout",
     "output_type": "stream",
     "text": [
      " * sqlite:///EbayData.db\n",
      "Done.\n"
     ]
    },
    {
     "data": {
      "text/html": [
       "<table>\n",
       "    <tr>\n",
       "        <th>COUNT(*)</th>\n",
       "    </tr>\n",
       "    <tr>\n",
       "        <td>13422</td>\n",
       "    </tr>\n",
       "</table>"
      ],
      "text/plain": [
       "[(13422,)]"
      ]
     },
     "execution_count": 25,
     "metadata": {},
     "output_type": "execute_result"
    }
   ],
   "source": [
    "%%sql \n",
    "SELECT COUNT(*)\n",
    "FROM EbayUsers"
   ]
  },
  {
   "cell_type": "markdown",
   "metadata": {},
   "source": [
    "Question 2:"
   ]
  },
  {
   "cell_type": "code",
   "execution_count": 24,
   "metadata": {},
   "outputs": [
    {
     "name": "stdout",
     "output_type": "stream",
     "text": [
      " * sqlite:///EbayData.db\n",
      "Done.\n"
     ]
    },
    {
     "data": {
      "text/html": [
       "<table>\n",
       "    <tr>\n",
       "        <th>COUNT(*)</th>\n",
       "    </tr>\n",
       "    <tr>\n",
       "        <td>80</td>\n",
       "    </tr>\n",
       "</table>"
      ],
      "text/plain": [
       "[(80,)]"
      ]
     },
     "execution_count": 24,
     "metadata": {},
     "output_type": "execute_result"
    }
   ],
   "source": [
    "%%sql \n",
    "SELECT COUNT(*)\n",
    "FROM EbayUsers\n",
    "WHERE Location = \"New York\";"
   ]
  },
  {
   "cell_type": "markdown",
   "metadata": {},
   "source": [
    "Question 3:"
   ]
  },
  {
   "cell_type": "code",
   "execution_count": 26,
   "metadata": {},
   "outputs": [
    {
     "name": "stdout",
     "output_type": "stream",
     "text": [
      " * sqlite:///EbayData.db\n",
      "Done.\n"
     ]
    },
    {
     "data": {
      "text/html": [
       "<table>\n",
       "    <tr>\n",
       "        <th>COUNT(*)</th>\n",
       "    </tr>\n",
       "    <tr>\n",
       "        <td>8365</td>\n",
       "    </tr>\n",
       "</table>"
      ],
      "text/plain": [
       "[(8365,)]"
      ]
     },
     "execution_count": 26,
     "metadata": {},
     "output_type": "execute_result"
    }
   ],
   "source": [
    "%%sql\n",
    "SELECT COUNT(*)\n",
    "FROM(SELECT COUNT(*) as NUM\n",
    "FROM Categories\n",
    "GROUP BY Categories.ItemID)\n",
    "WHERE NUM = 4;"
   ]
  },
  {
   "cell_type": "markdown",
   "metadata": {},
   "source": [
    "Question 4:"
   ]
  },
  {
   "cell_type": "code",
   "execution_count": 27,
   "metadata": {},
   "outputs": [
    {
     "name": "stdout",
     "output_type": "stream",
     "text": [
      " * sqlite:///EbayData.db\n",
      "Done.\n"
     ]
    },
    {
     "data": {
      "text/html": [
       "<table>\n",
       "    <tr>\n",
       "        <th>ItemID</th>\n",
       "    </tr>\n",
       "    <tr>\n",
       "        <td>1046871451</td>\n",
       "    </tr>\n",
       "</table>"
      ],
      "text/plain": [
       "[(1046871451,)]"
      ]
     },
     "execution_count": 27,
     "metadata": {},
     "output_type": "execute_result"
    }
   ],
   "source": [
    "%%sql\n",
    "SELECT ItemID\n",
    "FROM Items\n",
    "WHERE CURRENTLY = \n",
    "(SELECT MAX(CURRENTLY)\n",
    "FROM Items);"
   ]
  },
  {
   "cell_type": "markdown",
   "metadata": {},
   "source": [
    "Question 5:"
   ]
  },
  {
   "cell_type": "code",
   "execution_count": 33,
   "metadata": {},
   "outputs": [
    {
     "name": "stdout",
     "output_type": "stream",
     "text": [
      " * sqlite:///EbayData.db\n",
      "Done.\n"
     ]
    },
    {
     "data": {
      "text/html": [
       "<table>\n",
       "    <tr>\n",
       "        <th>COUNT(DISTINCT EbayUsers.UserID)</th>\n",
       "    </tr>\n",
       "    <tr>\n",
       "        <td>3130</td>\n",
       "    </tr>\n",
       "</table>"
      ],
      "text/plain": [
       "[(3130,)]"
      ]
     },
     "execution_count": 33,
     "metadata": {},
     "output_type": "execute_result"
    }
   ],
   "source": [
    "%%sql \n",
    "SELECT COUNT(DISTINCT EbayUsers.UserID)\n",
    "FROM Items, EbayUsers\n",
    "WHERE Items.SellerID = EbayUsers.UserID AND EbayUsers.Rating > 1000;"
   ]
  },
  {
   "cell_type": "markdown",
   "metadata": {},
   "source": [
    "Question 6:"
   ]
  },
  {
   "cell_type": "code",
   "execution_count": 35,
   "metadata": {},
   "outputs": [
    {
     "name": "stdout",
     "output_type": "stream",
     "text": [
      " * sqlite:///EbayData.db\n",
      "Done.\n"
     ]
    },
    {
     "data": {
      "text/html": [
       "<table>\n",
       "    <tr>\n",
       "        <th>COUNT(DISTINCT Items.SellerID)</th>\n",
       "    </tr>\n",
       "    <tr>\n",
       "        <td>6717</td>\n",
       "    </tr>\n",
       "</table>"
      ],
      "text/plain": [
       "[(6717,)]"
      ]
     },
     "execution_count": 35,
     "metadata": {},
     "output_type": "execute_result"
    }
   ],
   "source": [
    "%%sql\n",
    "SELECT COUNT(DISTINCT Items.SellerID)\n",
    "FROM Items, Bids\n",
    "WHERE Items.SellerID = Bids.UserID"
   ]
  },
  {
   "cell_type": "markdown",
   "metadata": {},
   "source": [
    "Question 7:"
   ]
  },
  {
   "cell_type": "code",
   "execution_count": 37,
   "metadata": {},
   "outputs": [
    {
     "name": "stdout",
     "output_type": "stream",
     "text": [
      " * sqlite:///EbayData.db\n",
      "Done.\n"
     ]
    },
    {
     "data": {
      "text/html": [
       "<table>\n",
       "    <tr>\n",
       "        <th>COUNT(DISTINCT Categories.Category_Name)</th>\n",
       "    </tr>\n",
       "    <tr>\n",
       "        <td>150</td>\n",
       "    </tr>\n",
       "</table>"
      ],
      "text/plain": [
       "[(150,)]"
      ]
     },
     "execution_count": 37,
     "metadata": {},
     "output_type": "execute_result"
    }
   ],
   "source": [
    "%%sql\n",
    "SELECT COUNT(DISTINCT Categories.Category_Name)\n",
    "FROM Categories, Bids\n",
    "WHERE Categories.ItemID = Bids.ItemID\n",
    "AND Bids.Amount > 100"
   ]
  },
  {
   "cell_type": "code",
   "execution_count": null,
   "metadata": {},
   "outputs": [],
   "source": [
    ".separator |\n",
    ".import EbayUsers.dat EbayUsers\n",
    "update Items set Location = null where Location = \"NULL\";\n",
    "update Items set Country = null where Country = \"NULL\";\n",
    "\n",
    ".import Items.dat Items\n",
    "update Items set Buy_Price = null where Buy_Price = \"NULL\";\n",
    "update Items set Description = null where Description = \"NULL\";\n",
    "\n",
    ".import Bids.dat Bids\n",
    " \n",
    ".import Categories.dat Categories\n",
    "                                   "
   ]
  }
 ],
 "metadata": {
  "kernelspec": {
   "display_name": "Python 3",
   "language": "python",
   "name": "python3"
  },
  "language_info": {
   "codemirror_mode": {
    "name": "ipython",
    "version": 3
   },
   "file_extension": ".py",
   "mimetype": "text/x-python",
   "name": "python",
   "nbconvert_exporter": "python",
   "pygments_lexer": "ipython3",
   "version": "3.7.2"
  }
 },
 "nbformat": 4,
 "nbformat_minor": 2
}
